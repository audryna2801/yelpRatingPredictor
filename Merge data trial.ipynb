{
 "cells": [
  {
   "cell_type": "code",
   "execution_count": 16,
   "metadata": {},
   "outputs": [],
   "source": [
    "import os\n",
    "import csv\n",
    "import pandas as pd\n",
    "import numpy as np\n",
    "import glob\n",
    "\n",
    "SCRAPED_DATA = [\"scraped_data/boston/\", \"scraped_data/la/\", \"scraped_data/nyc/\",\n",
    "                \"scraped_data/phil/\", \"scraped_data/chi/\", \"scraped_data/lav/\",\n",
    "                \"scraped_data/miami/\", \"scraped_data/sf/\", \"scraped_data/houston/\"]\n"
   ]
  },
  {
   "cell_type": "code",
   "execution_count": 17,
   "metadata": {},
   "outputs": [],
   "source": [
    "all_rest_csv = []\n",
    "for directory in SCRAPED_DATA:\n",
    "    for file_name in os.listdir(directory):\n",
    "        all_rest_csv += [str(directory+file_name)]\n",
    "\n",
    "# Concatenate all DataFrames together\n",
    "df_from_each_file = (pd.read_csv(f, usecols=[0, 1],\n",
    "                                 names=[\"Rating\", \"Text\"],\n",
    "                                 header=None)\n",
    "                     for f in all_rest_csv)\n",
    "concatenated_df = pd.concat(df_from_each_file, ignore_index=True)\n",
    "\n",
    "# Removing duplicates if present\n",
    "concatenated_df = concatenated_df.drop_duplicates().reset_index(drop=True)"
   ]
  },
  {
   "cell_type": "code",
   "execution_count": 18,
   "metadata": {},
   "outputs": [],
   "source": [
    "num_samples = 5000"
   ]
  },
  {
   "cell_type": "code",
   "execution_count": 19,
   "metadata": {},
   "outputs": [],
   "source": [
    "remaining_samples = num_samples\n",
    "final_df = pd.DataFrame()\n",
    "for rating in range(1, 6):\n",
    "    ideal_size = round(remaining_samples / (6 - rating))\n",
    "    rating_df = concatenated_df[concatenated_df.Rating == rating]\n",
    "    rating_size = rating_df.shape[0]\n",
    "    size = min(ideal_size, rating_size)\n",
    "    rating_sample = rating_df.sample(size)\n",
    "    final_df = pd.concat([final_df, rating_sample], ignore_index=True)\n",
    "    remaining_samples -= size"
   ]
  },
  {
   "cell_type": "code",
   "execution_count": 20,
   "metadata": {},
   "outputs": [
    {
     "data": {
      "text/plain": [
       "Rating\n",
       "1     503\n",
       "2     491\n",
       "3    1237\n",
       "4    1384\n",
       "5    1385\n",
       "dtype: int64"
      ]
     },
     "execution_count": 20,
     "metadata": {},
     "output_type": "execute_result"
    }
   ],
   "source": [
    "final_df.groupby(\"Rating\").size()"
   ]
  },
  {
   "cell_type": "code",
   "execution_count": 21,
   "metadata": {},
   "outputs": [
    {
     "data": {
      "text/plain": [
       "Rating\n",
       "1     503\n",
       "2     491\n",
       "3    1237\n",
       "4    3867\n",
       "5    8580\n",
       "dtype: int64"
      ]
     },
     "execution_count": 21,
     "metadata": {},
     "output_type": "execute_result"
    }
   ],
   "source": [
    "concatenated_df.groupby(\"Rating\").size()"
   ]
  },
  {
   "cell_type": "code",
   "execution_count": null,
   "metadata": {},
   "outputs": [],
   "source": []
  }
 ],
 "metadata": {
  "kernelspec": {
   "display_name": "Python 3",
   "language": "python",
   "name": "python3"
  },
  "language_info": {
   "codemirror_mode": {
    "name": "ipython",
    "version": 3
   },
   "file_extension": ".py",
   "mimetype": "text/x-python",
   "name": "python",
   "nbconvert_exporter": "python",
   "pygments_lexer": "ipython3",
   "version": "3.8.3"
  }
 },
 "nbformat": 4,
 "nbformat_minor": 4
}
