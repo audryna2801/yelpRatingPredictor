{
 "cells": [
  {
   "cell_type": "code",
   "execution_count": 1,
   "metadata": {},
   "outputs": [
    {
     "name": "stderr",
     "output_type": "stream",
     "text": [
      "[nltk_data] Downloading package wordnet to\n",
      "[nltk_data]     /Users/rhedintzaaudryna/nltk_data...\n",
      "[nltk_data]   Package wordnet is already up-to-date!\n"
     ]
    }
   ],
   "source": [
    "import pandas as pd\n",
    "import numpy as np\n",
    "from sklearn.svm import LinearSVC, SVC\n",
    "from sklearn import linear_model, tree, neighbors\n",
    "from sklearn.model_selection import train_test_split, cross_val_score\n",
    "from sklearn.feature_selection import SelectFromModel\n",
    "from sklearn.metrics import confusion_matrix, classification_report\n",
    "from sklearn.metrics import f1_score, accuracy_score\n",
    "from sklearn import preprocessing\n",
    "from nltk import pos_tag\n",
    "import time\n",
    "from analyze_words import get_final_df\n",
    "import joblib"
   ]
  },
  {
   "cell_type": "code",
   "execution_count": 2,
   "metadata": {},
   "outputs": [],
   "source": [
    "from analyze_words import *"
   ]
  },
  {
   "cell_type": "code",
   "execution_count": 3,
   "metadata": {},
   "outputs": [],
   "source": [
    "def applyModels(model, x_train, y_train):\n",
    "    print(model)\n",
    "    model.fit(x_train, y_train)\n",
    "    return model\n",
    "\n",
    "\n",
    "def predictModel(model, x_test):\n",
    "    prediction = model.predict(x_test)\n",
    "    return prediction"
   ]
  },
  {
   "cell_type": "code",
   "execution_count": 5,
   "metadata": {},
   "outputs": [
    {
     "name": "stdout",
     "output_type": "stream",
     "text": [
      "CPU times: user 2min 32s, sys: 31.8 s, total: 3min 3s\n",
      "Wall time: 3min 14s\n"
     ]
    }
   ],
   "source": [
    "%%time\n",
    "df, idf, stop_words = get_final_df('test_data/merged_data.csv')"
   ]
  },
  {
   "cell_type": "code",
   "execution_count": 9,
   "metadata": {
    "scrolled": true
   },
   "outputs": [
    {
     "data": {
      "text/html": [
       "<div>\n",
       "<style scoped>\n",
       "    .dataframe tbody tr th:only-of-type {\n",
       "        vertical-align: middle;\n",
       "    }\n",
       "\n",
       "    .dataframe tbody tr th {\n",
       "        vertical-align: top;\n",
       "    }\n",
       "\n",
       "    .dataframe thead th {\n",
       "        text-align: right;\n",
       "    }\n",
       "</style>\n",
       "<table border=\"1\" class=\"dataframe\">\n",
       "  <thead>\n",
       "    <tr style=\"text-align: right;\">\n",
       "      <th></th>\n",
       "      <th>gross</th>\n",
       "      <th>bloody</th>\n",
       "      <th>burgers</th>\n",
       "      <th>three</th>\n",
       "      <th>heady</th>\n",
       "      <th>beers</th>\n",
       "      <th>blaring</th>\n",
       "      <th>music</th>\n",
       "      <th>ears</th>\n",
       "      <th>still</th>\n",
       "      <th>...</th>\n",
       "      <th>tour very</th>\n",
       "      <th>enjoyable pricing</th>\n",
       "      <th>pricing at</th>\n",
       "      <th>at seems</th>\n",
       "      <th>seems little</th>\n",
       "      <th>steep group</th>\n",
       "      <th>group tour</th>\n",
       "      <th>tour end</th>\n",
       "      <th>end very</th>\n",
       "      <th>Rating</th>\n",
       "    </tr>\n",
       "  </thead>\n",
       "  <tbody>\n",
       "    <tr>\n",
       "      <th>4000</th>\n",
       "      <td>0.0</td>\n",
       "      <td>0.0</td>\n",
       "      <td>0.000000</td>\n",
       "      <td>0.0</td>\n",
       "      <td>0.0</td>\n",
       "      <td>0.0</td>\n",
       "      <td>0.0</td>\n",
       "      <td>0.0</td>\n",
       "      <td>0.0</td>\n",
       "      <td>0.0</td>\n",
       "      <td>...</td>\n",
       "      <td>0.0</td>\n",
       "      <td>0.0</td>\n",
       "      <td>0.0</td>\n",
       "      <td>0.0</td>\n",
       "      <td>0.0</td>\n",
       "      <td>0.0</td>\n",
       "      <td>0.0</td>\n",
       "      <td>0.0</td>\n",
       "      <td>0.0</td>\n",
       "      <td>3</td>\n",
       "    </tr>\n",
       "    <tr>\n",
       "      <th>4001</th>\n",
       "      <td>0.0</td>\n",
       "      <td>0.0</td>\n",
       "      <td>0.000000</td>\n",
       "      <td>0.0</td>\n",
       "      <td>0.0</td>\n",
       "      <td>0.0</td>\n",
       "      <td>0.0</td>\n",
       "      <td>0.0</td>\n",
       "      <td>0.0</td>\n",
       "      <td>0.0</td>\n",
       "      <td>...</td>\n",
       "      <td>0.0</td>\n",
       "      <td>0.0</td>\n",
       "      <td>0.0</td>\n",
       "      <td>0.0</td>\n",
       "      <td>0.0</td>\n",
       "      <td>0.0</td>\n",
       "      <td>0.0</td>\n",
       "      <td>0.0</td>\n",
       "      <td>0.0</td>\n",
       "      <td>3</td>\n",
       "    </tr>\n",
       "    <tr>\n",
       "      <th>4002</th>\n",
       "      <td>0.0</td>\n",
       "      <td>0.0</td>\n",
       "      <td>0.000000</td>\n",
       "      <td>0.0</td>\n",
       "      <td>0.0</td>\n",
       "      <td>0.0</td>\n",
       "      <td>0.0</td>\n",
       "      <td>0.0</td>\n",
       "      <td>0.0</td>\n",
       "      <td>0.0</td>\n",
       "      <td>...</td>\n",
       "      <td>0.0</td>\n",
       "      <td>0.0</td>\n",
       "      <td>0.0</td>\n",
       "      <td>0.0</td>\n",
       "      <td>0.0</td>\n",
       "      <td>0.0</td>\n",
       "      <td>0.0</td>\n",
       "      <td>0.0</td>\n",
       "      <td>0.0</td>\n",
       "      <td>3</td>\n",
       "    </tr>\n",
       "    <tr>\n",
       "      <th>4003</th>\n",
       "      <td>0.0</td>\n",
       "      <td>0.0</td>\n",
       "      <td>0.000000</td>\n",
       "      <td>0.0</td>\n",
       "      <td>0.0</td>\n",
       "      <td>0.0</td>\n",
       "      <td>0.0</td>\n",
       "      <td>0.0</td>\n",
       "      <td>0.0</td>\n",
       "      <td>0.0</td>\n",
       "      <td>...</td>\n",
       "      <td>0.0</td>\n",
       "      <td>0.0</td>\n",
       "      <td>0.0</td>\n",
       "      <td>0.0</td>\n",
       "      <td>0.0</td>\n",
       "      <td>0.0</td>\n",
       "      <td>0.0</td>\n",
       "      <td>0.0</td>\n",
       "      <td>0.0</td>\n",
       "      <td>3</td>\n",
       "    </tr>\n",
       "    <tr>\n",
       "      <th>4004</th>\n",
       "      <td>0.0</td>\n",
       "      <td>0.0</td>\n",
       "      <td>0.000000</td>\n",
       "      <td>0.0</td>\n",
       "      <td>0.0</td>\n",
       "      <td>0.0</td>\n",
       "      <td>0.0</td>\n",
       "      <td>0.0</td>\n",
       "      <td>0.0</td>\n",
       "      <td>0.0</td>\n",
       "      <td>...</td>\n",
       "      <td>0.0</td>\n",
       "      <td>0.0</td>\n",
       "      <td>0.0</td>\n",
       "      <td>0.0</td>\n",
       "      <td>0.0</td>\n",
       "      <td>0.0</td>\n",
       "      <td>0.0</td>\n",
       "      <td>0.0</td>\n",
       "      <td>0.0</td>\n",
       "      <td>3</td>\n",
       "    </tr>\n",
       "    <tr>\n",
       "      <th>...</th>\n",
       "      <td>...</td>\n",
       "      <td>...</td>\n",
       "      <td>...</td>\n",
       "      <td>...</td>\n",
       "      <td>...</td>\n",
       "      <td>...</td>\n",
       "      <td>...</td>\n",
       "      <td>...</td>\n",
       "      <td>...</td>\n",
       "      <td>...</td>\n",
       "      <td>...</td>\n",
       "      <td>...</td>\n",
       "      <td>...</td>\n",
       "      <td>...</td>\n",
       "      <td>...</td>\n",
       "      <td>...</td>\n",
       "      <td>...</td>\n",
       "      <td>...</td>\n",
       "      <td>...</td>\n",
       "      <td>...</td>\n",
       "      <td>...</td>\n",
       "    </tr>\n",
       "    <tr>\n",
       "      <th>5995</th>\n",
       "      <td>0.0</td>\n",
       "      <td>0.0</td>\n",
       "      <td>0.000000</td>\n",
       "      <td>0.0</td>\n",
       "      <td>0.0</td>\n",
       "      <td>0.0</td>\n",
       "      <td>0.0</td>\n",
       "      <td>0.0</td>\n",
       "      <td>0.0</td>\n",
       "      <td>0.0</td>\n",
       "      <td>...</td>\n",
       "      <td>0.0</td>\n",
       "      <td>0.0</td>\n",
       "      <td>0.0</td>\n",
       "      <td>0.0</td>\n",
       "      <td>0.0</td>\n",
       "      <td>0.0</td>\n",
       "      <td>0.0</td>\n",
       "      <td>0.0</td>\n",
       "      <td>0.0</td>\n",
       "      <td>3</td>\n",
       "    </tr>\n",
       "    <tr>\n",
       "      <th>5996</th>\n",
       "      <td>0.0</td>\n",
       "      <td>0.0</td>\n",
       "      <td>1.457128</td>\n",
       "      <td>0.0</td>\n",
       "      <td>0.0</td>\n",
       "      <td>0.0</td>\n",
       "      <td>0.0</td>\n",
       "      <td>0.0</td>\n",
       "      <td>0.0</td>\n",
       "      <td>0.0</td>\n",
       "      <td>...</td>\n",
       "      <td>0.0</td>\n",
       "      <td>0.0</td>\n",
       "      <td>0.0</td>\n",
       "      <td>0.0</td>\n",
       "      <td>0.0</td>\n",
       "      <td>0.0</td>\n",
       "      <td>0.0</td>\n",
       "      <td>0.0</td>\n",
       "      <td>0.0</td>\n",
       "      <td>3</td>\n",
       "    </tr>\n",
       "    <tr>\n",
       "      <th>5997</th>\n",
       "      <td>0.0</td>\n",
       "      <td>0.0</td>\n",
       "      <td>0.000000</td>\n",
       "      <td>0.0</td>\n",
       "      <td>0.0</td>\n",
       "      <td>0.0</td>\n",
       "      <td>0.0</td>\n",
       "      <td>0.0</td>\n",
       "      <td>0.0</td>\n",
       "      <td>0.0</td>\n",
       "      <td>...</td>\n",
       "      <td>0.0</td>\n",
       "      <td>0.0</td>\n",
       "      <td>0.0</td>\n",
       "      <td>0.0</td>\n",
       "      <td>0.0</td>\n",
       "      <td>0.0</td>\n",
       "      <td>0.0</td>\n",
       "      <td>0.0</td>\n",
       "      <td>0.0</td>\n",
       "      <td>3</td>\n",
       "    </tr>\n",
       "    <tr>\n",
       "      <th>5998</th>\n",
       "      <td>0.0</td>\n",
       "      <td>0.0</td>\n",
       "      <td>0.000000</td>\n",
       "      <td>0.0</td>\n",
       "      <td>0.0</td>\n",
       "      <td>0.0</td>\n",
       "      <td>0.0</td>\n",
       "      <td>0.0</td>\n",
       "      <td>0.0</td>\n",
       "      <td>0.0</td>\n",
       "      <td>...</td>\n",
       "      <td>0.0</td>\n",
       "      <td>0.0</td>\n",
       "      <td>0.0</td>\n",
       "      <td>0.0</td>\n",
       "      <td>0.0</td>\n",
       "      <td>0.0</td>\n",
       "      <td>0.0</td>\n",
       "      <td>0.0</td>\n",
       "      <td>0.0</td>\n",
       "      <td>3</td>\n",
       "    </tr>\n",
       "    <tr>\n",
       "      <th>5999</th>\n",
       "      <td>0.0</td>\n",
       "      <td>0.0</td>\n",
       "      <td>0.000000</td>\n",
       "      <td>0.0</td>\n",
       "      <td>0.0</td>\n",
       "      <td>0.0</td>\n",
       "      <td>0.0</td>\n",
       "      <td>0.0</td>\n",
       "      <td>0.0</td>\n",
       "      <td>0.0</td>\n",
       "      <td>...</td>\n",
       "      <td>0.0</td>\n",
       "      <td>0.0</td>\n",
       "      <td>0.0</td>\n",
       "      <td>0.0</td>\n",
       "      <td>0.0</td>\n",
       "      <td>0.0</td>\n",
       "      <td>0.0</td>\n",
       "      <td>0.0</td>\n",
       "      <td>0.0</td>\n",
       "      <td>3</td>\n",
       "    </tr>\n",
       "  </tbody>\n",
       "</table>\n",
       "<p>2000 rows × 50135 columns</p>\n",
       "</div>"
      ],
      "text/plain": [
       "      gross  bloody   burgers  three  heady  beers  blaring  music  ears  \\\n",
       "4000    0.0     0.0  0.000000    0.0    0.0    0.0      0.0    0.0   0.0   \n",
       "4001    0.0     0.0  0.000000    0.0    0.0    0.0      0.0    0.0   0.0   \n",
       "4002    0.0     0.0  0.000000    0.0    0.0    0.0      0.0    0.0   0.0   \n",
       "4003    0.0     0.0  0.000000    0.0    0.0    0.0      0.0    0.0   0.0   \n",
       "4004    0.0     0.0  0.000000    0.0    0.0    0.0      0.0    0.0   0.0   \n",
       "...     ...     ...       ...    ...    ...    ...      ...    ...   ...   \n",
       "5995    0.0     0.0  0.000000    0.0    0.0    0.0      0.0    0.0   0.0   \n",
       "5996    0.0     0.0  1.457128    0.0    0.0    0.0      0.0    0.0   0.0   \n",
       "5997    0.0     0.0  0.000000    0.0    0.0    0.0      0.0    0.0   0.0   \n",
       "5998    0.0     0.0  0.000000    0.0    0.0    0.0      0.0    0.0   0.0   \n",
       "5999    0.0     0.0  0.000000    0.0    0.0    0.0      0.0    0.0   0.0   \n",
       "\n",
       "      still  ...  tour very  enjoyable pricing  pricing at  at seems  \\\n",
       "4000    0.0  ...        0.0                0.0         0.0       0.0   \n",
       "4001    0.0  ...        0.0                0.0         0.0       0.0   \n",
       "4002    0.0  ...        0.0                0.0         0.0       0.0   \n",
       "4003    0.0  ...        0.0                0.0         0.0       0.0   \n",
       "4004    0.0  ...        0.0                0.0         0.0       0.0   \n",
       "...     ...  ...        ...                ...         ...       ...   \n",
       "5995    0.0  ...        0.0                0.0         0.0       0.0   \n",
       "5996    0.0  ...        0.0                0.0         0.0       0.0   \n",
       "5997    0.0  ...        0.0                0.0         0.0       0.0   \n",
       "5998    0.0  ...        0.0                0.0         0.0       0.0   \n",
       "5999    0.0  ...        0.0                0.0         0.0       0.0   \n",
       "\n",
       "      seems little  steep group  group tour  tour end  end very  Rating  \n",
       "4000           0.0          0.0         0.0       0.0       0.0       3  \n",
       "4001           0.0          0.0         0.0       0.0       0.0       3  \n",
       "4002           0.0          0.0         0.0       0.0       0.0       3  \n",
       "4003           0.0          0.0         0.0       0.0       0.0       3  \n",
       "4004           0.0          0.0         0.0       0.0       0.0       3  \n",
       "...            ...          ...         ...       ...       ...     ...  \n",
       "5995           0.0          0.0         0.0       0.0       0.0       3  \n",
       "5996           0.0          0.0         0.0       0.0       0.0       3  \n",
       "5997           0.0          0.0         0.0       0.0       0.0       3  \n",
       "5998           0.0          0.0         0.0       0.0       0.0       3  \n",
       "5999           0.0          0.0         0.0       0.0       0.0       3  \n",
       "\n",
       "[2000 rows x 50135 columns]"
      ]
     },
     "execution_count": 9,
     "metadata": {},
     "output_type": "execute_result"
    }
   ],
   "source": [
    "df[df.Rating == 3]"
   ]
  },
  {
   "cell_type": "code",
   "execution_count": 6,
   "metadata": {},
   "outputs": [],
   "source": [
    "def transformFeatureSelection(model, x):\n",
    "    return model.transform(x)\n",
    "\n",
    "def applyFeatureSelection(model, x_train, y_train):\n",
    "    model = model.fit(x_train, y_train)\n",
    "    return model"
   ]
  },
  {
   "cell_type": "code",
   "execution_count": 7,
   "metadata": {},
   "outputs": [],
   "source": [
    "x_train, x_test, y_train, y_test = train_test_split(df.drop(\"Rating\", axis=1),df.Rating,test_size=0.2)\n",
    "model = linear_model.SGDClassifier()"
   ]
  },
  {
   "cell_type": "code",
   "execution_count": 8,
   "metadata": {},
   "outputs": [
    {
     "name": "stdout",
     "output_type": "stream",
     "text": [
      "SGDClassifier()\n"
     ]
    }
   ],
   "source": [
    "trained_model = applyModels(model, x_train, y_train)"
   ]
  },
  {
   "cell_type": "code",
   "execution_count": 9,
   "metadata": {},
   "outputs": [],
   "source": [
    "feature_selection_model = SelectFromModel(trained_model)\n",
    "trained_feature_selection_model = applyFeatureSelection(feature_selection_model,\n",
    "                                                        x_train, y_train)\n",
    "x_train = transformFeatureSelection(trained_feature_selection_model,\n",
    "                                    x_train)\n",
    "x_test = transformFeatureSelection(trained_feature_selection_model,\n",
    "                                   x_test)"
   ]
  },
  {
   "cell_type": "code",
   "execution_count": 10,
   "metadata": {},
   "outputs": [
    {
     "data": {
      "text/plain": [
       "array([[0.        , 0.        , 0.        , ..., 0.        , 0.        ,\n",
       "        0.        ],\n",
       "       [0.        , 0.        , 0.        , ..., 0.        , 0.        ,\n",
       "        0.        ],\n",
       "       [0.        , 0.        , 1.36605709, ..., 0.        , 0.        ,\n",
       "        0.        ],\n",
       "       ...,\n",
       "       [0.        , 0.        , 0.        , ..., 0.        , 0.        ,\n",
       "        0.        ],\n",
       "       [0.        , 0.        , 0.        , ..., 0.        , 0.        ,\n",
       "        0.        ],\n",
       "       [0.        , 0.        , 0.        , ..., 0.        , 0.        ,\n",
       "        0.        ]])"
      ]
     },
     "execution_count": 10,
     "metadata": {},
     "output_type": "execute_result"
    }
   ],
   "source": [
    "x_train"
   ]
  },
  {
   "cell_type": "code",
   "execution_count": 11,
   "metadata": {},
   "outputs": [],
   "source": [
    "feature_idx = trained_feature_selection_model.get_support()"
   ]
  },
  {
   "cell_type": "code",
   "execution_count": 12,
   "metadata": {},
   "outputs": [],
   "source": [
    "feature_name = df.drop(\"Rating\", axis=1).columns[feature_idx]"
   ]
  },
  {
   "cell_type": "code",
   "execution_count": 13,
   "metadata": {},
   "outputs": [
    {
     "name": "stdout",
     "output_type": "stream",
     "text": [
      "SGDClassifier()\n"
     ]
    }
   ],
   "source": [
    "final_model = applyModels(model, x_train, y_train)"
   ]
  },
  {
   "cell_type": "code",
   "execution_count": 39,
   "metadata": {},
   "outputs": [],
   "source": [
    "prediction = predictModel(final_model, x_test)"
   ]
  },
  {
   "cell_type": "code",
   "execution_count": 41,
   "metadata": {},
   "outputs": [
    {
     "data": {
      "text/plain": [
       "array([5, 4, 4, 2, 5, 3, 5, 3, 4, 1, 4, 5, 3, 2, 5, 1, 3, 1, 1, 2, 5, 4,\n",
       "       5, 5, 2, 3, 5, 1, 2, 4, 5, 1, 3, 3, 2, 1, 4, 4, 2, 2, 3, 3, 5, 5,\n",
       "       1, 3, 2, 3, 1, 2])"
      ]
     },
     "execution_count": 41,
     "metadata": {},
     "output_type": "execute_result"
    }
   ],
   "source": [
    "prediction[:50]"
   ]
  },
  {
   "cell_type": "code",
   "execution_count": 15,
   "metadata": {},
   "outputs": [
    {
     "data": {
      "text/plain": [
       "0.998"
      ]
     },
     "execution_count": 15,
     "metadata": {},
     "output_type": "execute_result"
    }
   ],
   "source": [
    "np.mean(prediction == y_test)"
   ]
  },
  {
   "cell_type": "code",
   "execution_count": 16,
   "metadata": {},
   "outputs": [],
   "source": [
    "import json"
   ]
  },
  {
   "cell_type": "code",
   "execution_count": 17,
   "metadata": {},
   "outputs": [],
   "source": [
    "comb = {\"ngram\": 2, \"lemmatize\": True, \"stop_word\": 20}"
   ]
  },
  {
   "cell_type": "code",
   "execution_count": 18,
   "metadata": {},
   "outputs": [],
   "source": [
    "with open('columns.json', 'w') as f:\n",
    "        json.dump(list(feature_name), f)\n",
    "with open('idf.json', 'w') as f:\n",
    "    json.dump(idf, f)\n",
    "with open('combination.json', 'w') as f:\n",
    "    json.dump(comb, f)\n",
    "with open('stop_words.json', 'w') as f:\n",
    "    json.dump(stop_words, f)"
   ]
  },
  {
   "cell_type": "code",
   "execution_count": 19,
   "metadata": {},
   "outputs": [],
   "source": [
    "from main import process_input"
   ]
  },
  {
   "cell_type": "code",
   "execution_count": 61,
   "metadata": {},
   "outputs": [
    {
     "name": "stdout",
     "output_type": "stream",
     "text": [
      "CPU times: user 46.8 ms, sys: 4.56 ms, total: 51.3 ms\n",
      "Wall time: 51.9 ms\n"
     ]
    }
   ],
   "source": [
    "%%time\n",
    "x_array = process_input(\"\"\"Due to COVID we decided to enjoy an at home Valentine's Day dinner via a meal kit. Sadly it was a mistake. It was not a meal kit for 4 as described online and in their instructions, but rather 2.\n",
    "\n",
    "Total Score: 2.4/5\n",
    "Ease of Pickup: 2/5 Naperville-They sat in their truck playing on their phones waiting to set up and made us wait 20 minutes. Finally someone demanded theirs so we got ours too.\n",
    "Quality of ingredients: 5/5\n",
    "Quality of prepared food: 3/5 - it was akin to take and bake pizza.\n",
    "Accuracy of kit: 1/5 - Only received pig face for two with a total weight of 9 ounces and  two chocolate chip cookies. The empanadas and green beans were as described.\n",
    "Value: 1/5\n",
    "\n",
    "I contacted the restaurant. They told me the ingredients I received were correct except I should have received 4 cookies. They also said it had changed. When? Before or after The Girl and The Goat printed the instructions, advertised the meal kit, or I paid $133 for a 4 person dinner. To their credit they did refund my money. Such a disappointing experience from one of my former favorite restaurants\"\"\")"
   ]
  },
  {
   "cell_type": "code",
   "execution_count": 62,
   "metadata": {},
   "outputs": [
    {
     "data": {
      "text/plain": [
       "Index(['got', 'so', 'or', 'after', 'two', 'have', 'received', 'refund',\n",
       "       'waiting', 'an',\n",
       "       ...\n",
       "       'phones', 'their phones', 'covid decided', 'credit', 'face', 'accuracy',\n",
       "       'so got', 'theirs', 'prepared food', 'score'],\n",
       "      dtype='object', length=106)"
      ]
     },
     "execution_count": 62,
     "metadata": {},
     "output_type": "execute_result"
    }
   ],
   "source": [
    "feature_name[x_array.nonzero()]"
   ]
  },
  {
   "cell_type": "code",
   "execution_count": 63,
   "metadata": {},
   "outputs": [
    {
     "data": {
      "text/plain": [
       "26360"
      ]
     },
     "execution_count": 63,
     "metadata": {},
     "output_type": "execute_result"
    }
   ],
   "source": [
    "len(x_array)"
   ]
  },
  {
   "cell_type": "code",
   "execution_count": 64,
   "metadata": {},
   "outputs": [
    {
     "data": {
      "text/plain": [
       "(2000, 26360)"
      ]
     },
     "execution_count": 64,
     "metadata": {},
     "output_type": "execute_result"
    }
   ],
   "source": [
    "x_test.shape"
   ]
  },
  {
   "cell_type": "code",
   "execution_count": 65,
   "metadata": {},
   "outputs": [],
   "source": [
    "prediction = predictModel(final_model, [x_array])"
   ]
  },
  {
   "cell_type": "code",
   "execution_count": 66,
   "metadata": {},
   "outputs": [
    {
     "data": {
      "text/plain": [
       "array([1])"
      ]
     },
     "execution_count": 66,
     "metadata": {},
     "output_type": "execute_result"
    }
   ],
   "source": [
    "prediction"
   ]
  },
  {
   "cell_type": "code",
   "execution_count": 42,
   "metadata": {},
   "outputs": [],
   "source": [
    "def forward_selection(df):\n",
    "    '''\n",
    "    Given a dataset with P predictor variables, uses forward selection to\n",
    "    select models for every value of K between 1 and P.\n",
    "\n",
    "    Inputs:\n",
    "        dataset: (DataSet object) a dataset\n",
    "\n",
    "    Returns:\n",
    "        A list (of length P) of Model objects. The first element is the\n",
    "        model where K=1, the second element is the model where K=2, and so on.\n",
    "    '''\n",
    "\n",
    "    models = []\n",
    "    pred_vars_avail = dataset.pred_vars[:]\n",
    "    pred_vars_used = []\n",
    "    num_vars = len(dataset.pred_vars)\n",
    "\n",
    "    for _ in range(num_vars):\n",
    "        max_R2 = 0\n",
    "        max_model = None\n",
    "        max_variable = None\n",
    "        for var in pred_vars_avail:\n",
    "            model = Model(dataset, pred_vars_used + [var])\n",
    "            if model.R2 > max_R2:\n",
    "                max_model = model\n",
    "                max_R2 = model.R2\n",
    "                max_variable = var\n",
    "        pred_vars_used.append(max_variable)\n",
    "        pred_vars_avail.remove(max_variable)\n",
    "        models.append(max_model)\n",
    "\n",
    "    return models"
   ]
  },
  {
   "cell_type": "code",
   "execution_count": null,
   "metadata": {},
   "outputs": [],
   "source": []
  }
 ],
 "metadata": {
  "kernelspec": {
   "display_name": "Python 3",
   "language": "python",
   "name": "python3"
  },
  "language_info": {
   "codemirror_mode": {
    "name": "ipython",
    "version": 3
   },
   "file_extension": ".py",
   "mimetype": "text/x-python",
   "name": "python",
   "nbconvert_exporter": "python",
   "pygments_lexer": "ipython3",
   "version": "3.8.3"
  }
 },
 "nbformat": 4,
 "nbformat_minor": 4
}
