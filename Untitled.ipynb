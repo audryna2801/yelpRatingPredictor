{
 "cells": [
  {
   "cell_type": "code",
   "execution_count": 1,
   "id": "refined-shock",
   "metadata": {},
   "outputs": [],
   "source": [
    "import os\n",
    "\n",
    "scraped_data_dir='scraped_data/'\n",
    "\n",
    "\n",
    "all_rest_csv = [scraped_data_dir + file_name for file_name in os.listdir(scraped_data_dir) if file_name.endswith('.csv')]"
   ]
  },
  {
   "cell_type": "code",
   "execution_count": 3,
   "id": "frank-anthony",
   "metadata": {},
   "outputs": [],
   "source": [
    "\n",
    "import os\n",
    "import csv\n",
    "import pandas as pd\n",
    "import numpy as np\n",
    "import glob\n"
   ]
  },
  {
   "cell_type": "code",
   "execution_count": 4,
   "id": "limiting-speaking",
   "metadata": {},
   "outputs": [],
   "source": [
    "df_from_each_file = (pd.read_csv(f) for f in all_rest_csv)\n",
    "concatenated_df   = pd.concat(df_from_each_file, ignore_index=True)\n"
   ]
  },
  {
   "cell_type": "code",
   "execution_count": null,
   "id": "tested-render",
   "metadata": {},
   "outputs": [],
   "source": [
    "concatenated_df.groupby(\"Rating\").sample(n=2000, random_state=1234).reset_index(drop=True)\n"
   ]
  },
  {
   "cell_type": "code",
   "execution_count": null,
   "id": "talented-actress",
   "metadata": {},
   "outputs": [],
   "source": [
    "round(5.7)"
   ]
  },
  {
   "cell_type": "code",
   "execution_count": 5,
   "id": "front-germany",
   "metadata": {},
   "outputs": [],
   "source": [
    "import merge_data"
   ]
  },
  {
   "cell_type": "code",
   "execution_count": 6,
   "id": "seventh-negative",
   "metadata": {},
   "outputs": [],
   "source": [
    "merge_data.merge_data(scraped_data_dir='scraped_data/', num_samples=10000, random_state=1234)"
   ]
  },
  {
   "cell_type": "code",
   "execution_count": null,
   "id": "japanese-guard",
   "metadata": {},
   "outputs": [],
   "source": []
  }
 ],
 "metadata": {
  "kernelspec": {
   "display_name": "Python 3",
   "language": "python",
   "name": "python3"
  },
  "language_info": {
   "codemirror_mode": {
    "name": "ipython",
    "version": 3
   },
   "file_extension": ".py",
   "mimetype": "text/x-python",
   "name": "python",
   "nbconvert_exporter": "python",
   "pygments_lexer": "ipython3",
   "version": "3.8.5"
  }
 },
 "nbformat": 4,
 "nbformat_minor": 5
}
