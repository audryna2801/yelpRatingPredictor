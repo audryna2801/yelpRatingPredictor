{
 "cells": [
  {
   "cell_type": "code",
   "execution_count": null,
   "metadata": {},
   "outputs": [],
   "source": [
    "%load_ext autoreload\n",
    "%autoreload 2\n",
    "import main\n",
    "from textblob import TextBlob\n",
    "\n",
    "\n",
    "if __name__ == \"__main__\":\n",
    "    main.user_interface()"
   ]
  },
  {
   "cell_type": "code",
   "execution_count": 2,
   "metadata": {},
   "outputs": [
    {
     "name": "stdout",
     "output_type": "stream",
     "text": [
      "==================================================\n",
      "   Welcome to the Suggested Star Rating System!\n",
      "\n",
      "            Copy and paste your review.\n",
      "\n",
      "       Type Control-D to exit the program.\n",
      "==================================================\n",
      "\n",
      "Enter review here: This NYC gem was just a magical birthday celebration evening. NYC opened indoor dining back up to 25% and as I write this, it is now at 35%.  We cannot lose these places...this is what makes New York, New York. I hope that we can all get through this pandemic and keep these gems alive.  As I was saying... You will not be disappointed at all! Every dish created by CHEF PROPRIETOR KAY HYUN & team was MAGICAL!  The flavors, the combination, the textures. Beautiful tapas sized plates were shared amongst my group.  It is an art and every bite should take you on a rollercoaster ride.  My kids are 10 + 8 years old and I'm so grateful they were able to experience this journey through all the different plates. They loved it and had a better understanding of each one.\n",
      "Your review is:  His NYC gem was just a magical birthday celebration evening. NYC opened indoor dining back up to 25% and as I write this, it is now at 35%.  He cannot lose these places...this is what makes New Work, New Work. I hope that we can all get through this anaemic and keep these gems alive.  Is I was saying... You will not be disappointed at all! Very dish created by CHEF PROPRIETOR KAY HYUN & team was MAGICAL!  The favors, the combination, the texture. Beautiful taras sized plates were shared amongst my group.  It is an art and every bite should take you on a rollercoaster ride.  By kiss are 10 + 8 years old and I'm so grateful they were able to experience this journey through all the different plates. They loved it and had a better understanding of each one.\n",
      "Your suggested star rating is: 5\n",
      "Thank you for using our Suggested Star Rating System!\n"
     ]
    }
   ],
   "source": [
    "run main"
   ]
  },
  {
   "cell_type": "code",
   "execution_count": 12,
   "metadata": {},
   "outputs": [
    {
     "name": "stdout",
     "output_type": "stream",
     "text": [
      "==================================================\n",
      "   Welcome to the Suggested Star Rating System!\n",
      "\n",
      "            Copy and paste your review.\n",
      "\n",
      "       Type Control-D to exit the program.\n",
      "==================================================\n",
      "\n",
      "Enter review here: Appreciate a hot chicken stop on the east side and a decent menu covering wings/tender/sliders. But as a huge fried chicken fan - this didn't quite cut the mustard not to mention the price point was pretty high.  I shared some bites with my friends and they were into it: they're not fried chicken addicts like me, so there's that.\n",
      "Your suggested star rating is: 4\n",
      "Thank you for using our Suggested Star Rating System!\n"
     ]
    }
   ],
   "source": [
    "run main"
   ]
  },
  {
   "cell_type": "code",
   "execution_count": null,
   "metadata": {},
   "outputs": [],
   "source": []
  }
 ],
 "metadata": {
  "kernelspec": {
   "display_name": "Python 3",
   "language": "python",
   "name": "python3"
  },
  "language_info": {
   "codemirror_mode": {
    "name": "ipython",
    "version": 3
   },
   "file_extension": ".py",
   "mimetype": "text/x-python",
   "name": "python",
   "nbconvert_exporter": "python",
   "pygments_lexer": "ipython3",
   "version": "3.8.3"
  }
 },
 "nbformat": 4,
 "nbformat_minor": 4
}
