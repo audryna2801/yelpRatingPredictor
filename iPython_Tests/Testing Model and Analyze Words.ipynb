{
 "cells": [
  {
   "cell_type": "code",
   "execution_count": 1,
   "metadata": {},
   "outputs": [
    {
     "name": "stderr",
     "output_type": "stream",
     "text": [
      "[nltk_data] Downloading package wordnet to\n",
      "[nltk_data]     /Users/rhedintzaaudryna/nltk_data...\n",
      "[nltk_data]   Package wordnet is already up-to-date!\n"
     ]
    }
   ],
   "source": [
    "import model\n",
    "import analyze_words"
   ]
  },
  {
   "cell_type": "code",
   "execution_count": 2,
   "metadata": {},
   "outputs": [
    {
     "name": "stdout",
     "output_type": "stream",
     "text": [
      "Optimizing and Saving final model\n",
      "Completed initializing.\n",
      "(1, True, 0, 0.0001) Finished testing. | Accuracy:  0.999125\n",
      "(1, True, 0, 0.001) Finished testing. | Accuracy:  0.99875\n",
      "(1, True, 0, 0.01) Finished testing. | Accuracy:  0.999\n",
      "(1, True, 0, 0.1) Finished testing. | Accuracy:  0.998625\n",
      "(1, True, 0, 1) Finished testing. | Accuracy:  0.99125\n",
      "(1, True, 10, 0.0001) Finished testing. | Accuracy:  0.99875\n",
      "(1, True, 10, 0.001) Finished testing. | Accuracy:  0.9985\n",
      "(1, True, 10, 0.01) Finished testing. | Accuracy:  0.998625\n",
      "(1, True, 10, 0.1) Finished testing. | Accuracy:  0.998625\n",
      "(1, True, 10, 1) Finished testing. | Accuracy:  0.993125\n",
      "(1, True, 20, 0.0001) Finished testing. | Accuracy:  0.998625\n",
      "(1, True, 20, 0.001) Finished testing. | Accuracy:  0.999\n",
      "(1, True, 20, 0.01) Finished testing. | Accuracy:  0.999\n",
      "(1, True, 20, 0.1) Finished testing. | Accuracy:  0.999\n",
      "(1, True, 20, 1) Finished testing. | Accuracy:  0.985625\n",
      "(1, False, 0, 0.0001) Finished testing. | Accuracy:  0.99875\n",
      "(1, False, 0, 0.001) Finished testing. | Accuracy:  0.999\n",
      "(1, False, 0, 0.01) Finished testing. | Accuracy:  0.999\n",
      "(1, False, 0, 0.1) Finished testing. | Accuracy:  0.998625\n",
      "(1, False, 0, 1) Finished testing. | Accuracy:  0.991625\n",
      "(1, False, 10, 0.0001) Finished testing. | Accuracy:  0.99875\n",
      "(1, False, 10, 0.001) Finished testing. | Accuracy:  0.9985\n",
      "(1, False, 10, 0.01) Finished testing. | Accuracy:  0.99875\n",
      "(1, False, 10, 0.1) Finished testing. | Accuracy:  0.99875\n",
      "(1, False, 10, 1) Finished testing. | Accuracy:  0.986625\n",
      "(1, False, 20, 0.0001) Finished testing. | Accuracy:  0.9985\n",
      "(1, False, 20, 0.001) Finished testing. | Accuracy:  0.998875\n",
      "(1, False, 20, 0.01) Finished testing. | Accuracy:  0.99875\n",
      "(1, False, 20, 0.1) Finished testing. | Accuracy:  0.999\n",
      "(1, False, 20, 1) Finished testing. | Accuracy:  0.994125\n",
      "(2, True, 0, 0.0001) Finished testing. | Accuracy:  0.99875\n",
      "(2, True, 0, 0.001) Finished testing. | Accuracy:  0.998375\n",
      "(2, True, 0, 0.01) Finished testing. | Accuracy:  0.9985\n",
      "(2, True, 0, 0.1) Finished testing. | Accuracy:  0.998625\n",
      "(2, True, 0, 1) Finished testing. | Accuracy:  0.998625\n",
      "(2, True, 10, 0.0001) Finished testing. | Accuracy:  0.998625\n",
      "(2, True, 10, 0.001) Finished testing. | Accuracy:  0.99825\n",
      "(2, True, 10, 0.01) Finished testing. | Accuracy:  0.99825\n",
      "(2, True, 10, 0.1) Finished testing. | Accuracy:  0.998875\n",
      "(2, True, 10, 1) Finished testing. | Accuracy:  0.9985\n",
      "(2, True, 20, 0.0001) Finished testing. | Accuracy:  0.998625\n",
      "(2, True, 20, 0.001) Finished testing. | Accuracy:  0.998375\n",
      "(2, True, 20, 0.01) Finished testing. | Accuracy:  0.9985\n",
      "(2, True, 20, 0.1) Finished testing. | Accuracy:  0.99875\n",
      "(2, True, 20, 1) Finished testing. | Accuracy:  0.998375\n",
      "(2, False, 0, 0.0001) Finished testing. | Accuracy:  0.998875\n",
      "(2, False, 0, 0.001) Finished testing. | Accuracy:  0.9985\n",
      "(2, False, 0, 0.01) Finished testing. | Accuracy:  0.9985\n",
      "(2, False, 0, 0.1) Finished testing. | Accuracy:  0.999125\n",
      "(2, False, 0, 1) Finished testing. | Accuracy:  0.99875\n",
      "(2, False, 10, 0.0001) Finished testing. | Accuracy:  0.998625\n",
      "(2, False, 10, 0.001) Finished testing. | Accuracy:  0.998625\n",
      "(2, False, 10, 0.01) Finished testing. | Accuracy:  0.99825\n",
      "(2, False, 10, 0.1) Finished testing. | Accuracy:  0.998875\n",
      "(2, False, 10, 1) Finished testing. | Accuracy:  0.997875\n",
      "(2, False, 20, 0.0001) Finished testing. | Accuracy:  0.998625\n",
      "(2, False, 20, 0.001) Finished testing. | Accuracy:  0.9985\n",
      "(2, False, 20, 0.01) Finished testing. | Accuracy:  0.99825\n",
      "(2, False, 20, 0.1) Finished testing. | Accuracy:  0.9985\n",
      "(2, False, 20, 1) Finished testing. | Accuracy:  0.998375\n",
      "(3, True, 0, 0.0001) Finished testing. | Accuracy:  0.999\n",
      "(3, True, 0, 0.001) Finished testing. | Accuracy:  0.998375\n",
      "(3, True, 0, 0.01) Finished testing. | Accuracy:  0.99825\n",
      "(3, True, 0, 0.1) Finished testing. | Accuracy:  0.9985\n",
      "(3, True, 0, 1) Finished testing. | Accuracy:  0.99875\n",
      "(3, True, 10, 0.0001) Finished testing. | Accuracy:  0.998375\n",
      "(3, True, 10, 0.001) Finished testing. | Accuracy:  0.99825\n",
      "(3, True, 10, 0.01) Finished testing. | Accuracy:  0.99825\n",
      "(3, True, 10, 0.1) Finished testing. | Accuracy:  0.99825\n",
      "(3, True, 10, 1) Finished testing. | Accuracy:  0.998625\n",
      "(3, True, 20, 0.0001) Finished testing. | Accuracy:  0.99875\n",
      "(3, True, 20, 0.001) Finished testing. | Accuracy:  0.998375\n",
      "(3, True, 20, 0.01) Finished testing. | Accuracy:  0.998625\n",
      "(3, True, 20, 0.1) Finished testing. | Accuracy:  0.99825\n",
      "(3, True, 20, 1) Finished testing. | Accuracy:  0.99825\n",
      "(3, False, 0, 0.0001) Finished testing. | Accuracy:  0.998375\n",
      "(3, False, 0, 0.001) Finished testing. | Accuracy:  0.9985\n",
      "(3, False, 0, 0.01) Finished testing. | Accuracy:  0.998375\n",
      "(3, False, 0, 0.1) Finished testing. | Accuracy:  0.998375\n",
      "(3, False, 0, 1) Finished testing. | Accuracy:  0.999125\n",
      "(3, False, 10, 0.0001) Finished testing. | Accuracy:  0.998375\n",
      "(3, False, 10, 0.001) Finished testing. | Accuracy:  0.998375\n",
      "(3, False, 10, 0.01) Finished testing. | Accuracy:  0.99825\n",
      "(3, False, 10, 0.1) Finished testing. | Accuracy:  0.99825\n",
      "(3, False, 10, 1) Finished testing. | Accuracy:  0.998625\n",
      "(3, False, 20, 0.0001) Finished testing. | Accuracy:  0.99875\n",
      "(3, False, 20, 0.001) Finished testing. | Accuracy:  0.998375\n",
      "(3, False, 20, 0.01) Finished testing. | Accuracy:  0.998375\n",
      "(3, False, 20, 0.1) Finished testing. | Accuracy:  0.99825\n",
      "(3, False, 20, 1) Finished testing. | Accuracy:  0.998625\n",
      "Final Model Classification Report\n",
      "              precision    recall  f1-score   support\n",
      "\n",
      "           1       1.00      1.00      1.00       398\n",
      "           2       1.00      1.00      1.00       422\n",
      "           3       0.99      1.00      1.00       379\n",
      "           4       0.99      0.99      0.99       414\n",
      "           5       0.99      0.98      0.99       387\n",
      "\n",
      "    accuracy                           0.99      2000\n",
      "   macro avg       0.99      0.99      0.99      2000\n",
      "weighted avg       0.99      0.99      0.99      2000\n",
      "\n",
      "Accuracy Score\n",
      "0.9985\n",
      "Success\n",
      "CPU times: user 5h 53min 19s, sys: 2h 3min 48s, total: 7h 57min 8s\n",
      "Wall time: 16h 34min 38s\n"
     ]
    }
   ],
   "source": [
    "%%time\n",
    "print(\"Optimizing and Saving final model\")\n",
    "model.main_modelling()\n",
    "print(\"Success\")"
   ]
  },
  {
   "cell_type": "code",
   "execution_count": 5,
   "metadata": {},
   "outputs": [],
   "source": [
    "merged = pd.read_csv(\"test_data/merged_data.csv\")"
   ]
  },
  {
   "cell_type": "code",
   "execution_count": 4,
   "metadata": {},
   "outputs": [],
   "source": [
    "import pandas as pd"
   ]
  },
  {
   "cell_type": "code",
   "execution_count": null,
   "metadata": {},
   "outputs": [],
   "source": []
  }
 ],
 "metadata": {
  "kernelspec": {
   "display_name": "Python 3",
   "language": "python",
   "name": "python3"
  },
  "language_info": {
   "codemirror_mode": {
    "name": "ipython",
    "version": 3
   },
   "file_extension": ".py",
   "mimetype": "text/x-python",
   "name": "python",
   "nbconvert_exporter": "python",
   "pygments_lexer": "ipython3",
   "version": "3.8.3"
  }
 },
 "nbformat": 4,
 "nbformat_minor": 4
}
