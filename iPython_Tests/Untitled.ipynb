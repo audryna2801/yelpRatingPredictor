{
 "cells": [
  {
   "cell_type": "code",
   "execution_count": 36,
   "id": "departmental-latin",
   "metadata": {},
   "outputs": [
    {
     "name": "stdout",
     "output_type": "stream",
     "text": [
      "The autoreload extension is already loaded. To reload it, use:\n",
      "  %reload_ext autoreload\n"
     ]
    }
   ],
   "source": [
    "%load_ext autoreload\n",
    "%autoreload 2\n",
    "import merge_data\n",
    "import os\n",
    "import csv\n",
    "import pandas as pd\n",
    "import numpy as np\n",
    "import glob\n"
   ]
  },
  {
   "cell_type": "code",
   "execution_count": 48,
   "id": "arranged-helicopter",
   "metadata": {},
   "outputs": [
    {
     "name": "stdout",
     "output_type": "stream",
     "text": [
      "      Rating                                               Text\n",
      "0          5  Consistently good and consistently crowded, th...\n",
      "1          5  -Great Spanish Tapas!\\n-Highly recommend the t...\n",
      "2          5  What a great spot! In Covid times, I thought t...\n",
      "3          5  Ba Ba BABY this place is wild from start to fi...\n",
      "4          5  Tasty tasty.\\n\\nHeard about this place from a ...\n",
      "...      ...                                                ...\n",
      "76494      5  I have always wanted to try her ice cream and ...\n",
      "76495      5  Jeni&apos;s is the best ice cream you will eve...\n",
      "76496      5  Love it! This treasure of flavor and happiness...\n",
      "76497      4  Jeni&apos;s offers a wide variety of flavors a...\n",
      "76498      5  Having a splendid good time  Imagine this: fre...\n",
      "\n",
      "[76499 rows x 2 columns]\n",
      "     Rating                                               Text\n",
      "0         1  Gross.\\n\\n$72 for bloody burgers, three heady ...\n",
      "1         1  Update: after two weeks, I still have not rece...\n",
      "2         1  Whoever the person with the blonde curly hair ...\n",
      "3         1  Terrible service.No hospitality.\\nWe booked th...\n",
      "4         1  Update: after two weeks, I still have not rece...\n",
      "...     ...                                                ...\n",
      "9995      5  Just when I thought I couldn&apos;t love Molly...\n",
      "9996      5  A whole slice of cake in a shake? Yea .. \\n\\nA...\n",
      "9997      5  By far the BEST cupcakes in the city. We were ...\n",
      "9998      5  LOVE LOVE LOVE this burger place, whoever visi...\n",
      "9999      5  BEST  PIZZA  EVER.\\n\\nI looked up several revi...\n",
      "\n",
      "[10000 rows x 2 columns]\n"
     ]
    }
   ],
   "source": [
    "merge_data.merge_data(scraped_data_dir=\"scraped_data/\", num_samples=10000,\n",
    "               random_state=1234)"
   ]
  },
  {
   "cell_type": "code",
   "execution_count": 42,
   "id": "single-schedule",
   "metadata": {},
   "outputs": [
    {
     "data": {
      "text/html": [
       "<div>\n",
       "<style scoped>\n",
       "    .dataframe tbody tr th:only-of-type {\n",
       "        vertical-align: middle;\n",
       "    }\n",
       "\n",
       "    .dataframe tbody tr th {\n",
       "        vertical-align: top;\n",
       "    }\n",
       "\n",
       "    .dataframe thead th {\n",
       "        text-align: right;\n",
       "    }\n",
       "</style>\n",
       "<table border=\"1\" class=\"dataframe\">\n",
       "  <thead>\n",
       "    <tr style=\"text-align: right;\">\n",
       "      <th></th>\n",
       "      <th>Rating</th>\n",
       "      <th>Text</th>\n",
       "    </tr>\n",
       "  </thead>\n",
       "  <tbody>\n",
       "    <tr>\n",
       "      <th>0</th>\n",
       "      <td>5</td>\n",
       "      <td>Consistently good and consistently crowded, th...</td>\n",
       "    </tr>\n",
       "    <tr>\n",
       "      <th>1</th>\n",
       "      <td>5</td>\n",
       "      <td>-Great Spanish Tapas!\\n-Highly recommend the t...</td>\n",
       "    </tr>\n",
       "    <tr>\n",
       "      <th>2</th>\n",
       "      <td>5</td>\n",
       "      <td>What a great spot! In Covid times, I thought t...</td>\n",
       "    </tr>\n",
       "    <tr>\n",
       "      <th>3</th>\n",
       "      <td>5</td>\n",
       "      <td>Ba Ba BABY this place is wild from start to fi...</td>\n",
       "    </tr>\n",
       "    <tr>\n",
       "      <th>4</th>\n",
       "      <td>5</td>\n",
       "      <td>Tasty tasty.\\n\\nHeard about this place from a ...</td>\n",
       "    </tr>\n",
       "    <tr>\n",
       "      <th>...</th>\n",
       "      <td>...</td>\n",
       "      <td>...</td>\n",
       "    </tr>\n",
       "    <tr>\n",
       "      <th>76494</th>\n",
       "      <td>5</td>\n",
       "      <td>I have always wanted to try her ice cream and ...</td>\n",
       "    </tr>\n",
       "    <tr>\n",
       "      <th>76495</th>\n",
       "      <td>5</td>\n",
       "      <td>Jeni&amp;apos;s is the best ice cream you will eve...</td>\n",
       "    </tr>\n",
       "    <tr>\n",
       "      <th>76496</th>\n",
       "      <td>5</td>\n",
       "      <td>Love it! This treasure of flavor and happiness...</td>\n",
       "    </tr>\n",
       "    <tr>\n",
       "      <th>76497</th>\n",
       "      <td>4</td>\n",
       "      <td>Jeni&amp;apos;s offers a wide variety of flavors a...</td>\n",
       "    </tr>\n",
       "    <tr>\n",
       "      <th>76498</th>\n",
       "      <td>5</td>\n",
       "      <td>Having a splendid good time  Imagine this: fre...</td>\n",
       "    </tr>\n",
       "  </tbody>\n",
       "</table>\n",
       "<p>76499 rows × 2 columns</p>\n",
       "</div>"
      ],
      "text/plain": [
       "      Rating                                               Text\n",
       "0          5  Consistently good and consistently crowded, th...\n",
       "1          5  -Great Spanish Tapas!\\n-Highly recommend the t...\n",
       "2          5  What a great spot! In Covid times, I thought t...\n",
       "3          5  Ba Ba BABY this place is wild from start to fi...\n",
       "4          5  Tasty tasty.\\n\\nHeard about this place from a ...\n",
       "...      ...                                                ...\n",
       "76494      5  I have always wanted to try her ice cream and ...\n",
       "76495      5  Jeni&apos;s is the best ice cream you will eve...\n",
       "76496      5  Love it! This treasure of flavor and happiness...\n",
       "76497      4  Jeni&apos;s offers a wide variety of flavors a...\n",
       "76498      5  Having a splendid good time  Imagine this: fre...\n",
       "\n",
       "[76499 rows x 2 columns]"
      ]
     },
     "execution_count": 42,
     "metadata": {},
     "output_type": "execute_result"
    }
   ],
   "source": [
    "concatenated_df"
   ]
  },
  {
   "cell_type": "code",
   "execution_count": null,
   "id": "roman-nashville",
   "metadata": {},
   "outputs": [],
   "source": []
  }
 ],
 "metadata": {
  "kernelspec": {
   "display_name": "Python 3",
   "language": "python",
   "name": "python3"
  },
  "language_info": {
   "codemirror_mode": {
    "name": "ipython",
    "version": 3
   },
   "file_extension": ".py",
   "mimetype": "text/x-python",
   "name": "python",
   "nbconvert_exporter": "python",
   "pygments_lexer": "ipython3",
   "version": "3.8.5"
  }
 },
 "nbformat": 4,
 "nbformat_minor": 5
}
