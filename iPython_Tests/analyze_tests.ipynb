{
 "cells": [
  {
   "cell_type": "code",
   "execution_count": 1,
   "id": "breeding-clinton",
   "metadata": {},
   "outputs": [],
   "source": [
    "import nltk\n",
    "from nltk.stem import WordNetLemmatizer\n",
    "from textblob import TextBlob\n",
    "from nltk import FreqDist\n",
    "import itertools\n",
    "import csv\n",
    "import re\n",
    "import pandas as pd\n",
    "import unicodedata\n",
    "import sys\n",
    "import math"
   ]
  },
  {
   "cell_type": "code",
   "execution_count": 2,
   "id": "helpful-spanking",
   "metadata": {},
   "outputs": [
    {
     "name": "stderr",
     "output_type": "stream",
     "text": [
      "[nltk_data] Downloading package wordnet to /Users/zqy1998/nltk_data...\n",
      "[nltk_data]   Package wordnet is already up-to-date!\n"
     ]
    }
   ],
   "source": [
    "import analyze_words\n"
   ]
  },
  {
   "cell_type": "code",
   "execution_count": 3,
   "id": "neural-basketball",
   "metadata": {},
   "outputs": [
    {
     "name": "stdout",
     "output_type": "stream",
     "text": [
      "['the', 'and', 'a', 'of', 'we', 'to', 'was', 'i', 'is', 'it', 'for', 'were', 'with', 'this', 'food', 'my', 'in', 'you', 'good', 'but']\n"
     ]
    }
   ],
   "source": [
    "all_terms = analyze_words.get_final_df(\"./test_data/babareba.csv\", 2, True)\n",
    "\n"
   ]
  },
  {
   "cell_type": "code",
   "execution_count": 5,
   "id": "emotional-flower",
   "metadata": {},
   "outputs": [
    {
     "data": {
      "text/plain": [
       "Index(['Rating', 'great', 'spanish', 'tapas', 'highly', 'recommend', 'tomato',\n",
       "       'bread', 'patatas', 'bravas',\n",
       "       ...\n",
       "       'sangria wow', 'wow also', 'also drinks', 'drinks talk', 'talk about',\n",
       "       'about value', 'value if', 'you're chicago', 'must visit',\n",
       "       'visit place'],\n",
       "      dtype='object', length=2120)"
      ]
     },
     "execution_count": 5,
     "metadata": {},
     "output_type": "execute_result"
    }
   ],
   "source": [
    "all_terms.columns\n"
   ]
  },
  {
   "cell_type": "code",
   "execution_count": null,
   "id": "controversial-pottery",
   "metadata": {},
   "outputs": [],
   "source": [
    "all_terms = analyze_words.get_final_df(\"./test_data/merged.csv\", 2, True)\n"
   ]
  },
  {
   "cell_type": "code",
   "execution_count": null,
   "id": "moral-transfer",
   "metadata": {},
   "outputs": [],
   "source": []
  },
  {
   "cell_type": "code",
   "execution_count": null,
   "id": "regular-fabric",
   "metadata": {},
   "outputs": [],
   "source": []
  }
 ],
 "metadata": {
  "kernelspec": {
   "display_name": "Python 3",
   "language": "python",
   "name": "python3"
  },
  "language_info": {
   "codemirror_mode": {
    "name": "ipython",
    "version": 3
   },
   "file_extension": ".py",
   "mimetype": "text/x-python",
   "name": "python",
   "nbconvert_exporter": "python",
   "pygments_lexer": "ipython3",
   "version": "3.8.5"
  }
 },
 "nbformat": 4,
 "nbformat_minor": 5
}
