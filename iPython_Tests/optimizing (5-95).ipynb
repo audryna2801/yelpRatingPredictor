{
 "cells": [
  {
   "cell_type": "code",
   "execution_count": 1,
   "metadata": {},
   "outputs": [
    {
     "name": "stderr",
     "output_type": "stream",
     "text": [
      "[nltk_data] Downloading package wordnet to /Users/zqy1998/nltk_data...\n",
      "[nltk_data]   Package wordnet is already up-to-date!\n"
     ]
    }
   ],
   "source": [
    "import pandas as pd\n",
    "import numpy as np\n",
    "from sklearn.svm import LinearSVC, SVC\n",
    "from sklearn import linear_model, tree, neighbors\n",
    "from sklearn.model_selection import train_test_split, cross_val_score\n",
    "from sklearn.feature_selection import SelectFromModel\n",
    "from sklearn.metrics import confusion_matrix, classification_report\n",
    "from sklearn.metrics import f1_score, accuracy_score\n",
    "from sklearn import preprocessing\n",
    "from nltk import pos_tag\n",
    "import time\n",
    "from analyze_words import get_final_df\n",
    "import joblib\n",
    "from analyze_words import *\n",
    "import model"
   ]
  },
  {
   "cell_type": "code",
   "execution_count": 4,
   "metadata": {},
   "outputs": [
    {
     "name": "stdout",
     "output_type": "stream",
     "text": [
      "completed initializing\n",
      "(1, True, 0, 0.0001) finished testing | accuracy:  0.9463684210526315\n",
      "(1, True, 0, 0.001) finished testing | accuracy:  0.9546578947368421\n",
      "(1, True, 0, 0.01) finished testing | accuracy:  0.960421052631579\n",
      "(1, True, 0, 0.1) finished testing | accuracy:  0.9583684210526315\n",
      "(1, True, 0, 1) finished testing | accuracy:  0.9514736842105264\n",
      "(1, True, 10, 0.0001) finished testing | accuracy:  0.9540526315789474\n",
      "(1, True, 10, 0.001) finished testing | accuracy:  0.9489473684210527\n",
      "(1, True, 10, 0.01) finished testing | accuracy:  0.9593684210526315\n",
      "(1, True, 10, 0.1) finished testing | accuracy:  0.9588947368421052\n",
      "(1, True, 10, 1) finished testing | accuracy:  0.9356842105263158\n",
      "(1, True, 20, 0.0001) finished testing | accuracy:  0.948\n",
      "(1, True, 20, 0.001) finished testing | accuracy:  0.9520526315789474\n",
      "(1, True, 20, 0.01) finished testing | accuracy:  0.9490263157894737\n",
      "(1, True, 20, 0.1) finished testing | accuracy:  0.950921052631579\n",
      "(1, True, 20, 1) finished testing | accuracy:  0.9475526315789473\n",
      "(1, False, 0, 0.0001) finished testing | accuracy:  0.9542368421052632\n",
      "(1, False, 0, 0.001) finished testing | accuracy:  0.954078947368421\n",
      "(1, False, 0, 0.01) finished testing | accuracy:  0.9571315789473684\n",
      "(1, False, 0, 0.1) finished testing | accuracy:  0.9620263157894737\n",
      "(1, False, 0, 1) finished testing | accuracy:  0.9408684210526316\n",
      "(1, False, 10, 0.0001) finished testing | accuracy:  0.9478947368421052\n",
      "(1, False, 10, 0.001) finished testing | accuracy:  0.9458684210526316\n",
      "(1, False, 10, 0.01) finished testing | accuracy:  0.9558684210526316\n",
      "(1, False, 10, 0.1) finished testing | accuracy:  0.9555526315789473\n",
      "(1, False, 10, 1) finished testing | accuracy:  0.9446578947368421\n",
      "(1, False, 20, 0.0001) finished testing | accuracy:  0.9506052631578947\n",
      "(1, False, 20, 0.001) finished testing | accuracy:  0.9509473684210527\n",
      "(1, False, 20, 0.01) finished testing | accuracy:  0.9258157894736843\n",
      "(1, False, 20, 0.1) finished testing | accuracy:  0.9590526315789474\n",
      "(1, False, 20, 1) finished testing | accuracy:  0.9481315789473684\n",
      "(2, True, 0, 0.0001) finished testing | accuracy:  0.9511578947368421\n",
      "(2, True, 0, 0.001) finished testing | accuracy:  0.9446052631578947\n",
      "(2, True, 0, 0.01) finished testing | accuracy:  0.9563684210526315\n",
      "(2, True, 0, 0.1) finished testing | accuracy:  0.9403684210526315\n",
      "(2, True, 0, 1) finished testing | accuracy:  0.9468684210526316\n",
      "(2, True, 10, 0.0001) finished testing | accuracy:  0.9493421052631579\n",
      "(2, True, 10, 0.001) finished testing | accuracy:  0.9557368421052631\n",
      "(2, True, 10, 0.01) finished testing | accuracy:  0.9467631578947369\n",
      "(2, True, 10, 0.1) finished testing | accuracy:  0.9250263157894737\n",
      "(2, True, 10, 1) finished testing | accuracy:  0.9407105263157894\n",
      "(2, True, 20, 0.0001) finished testing | accuracy:  0.9402631578947368\n",
      "(2, True, 20, 0.001) finished testing | accuracy:  0.9424210526315789\n",
      "(2, True, 20, 0.01) finished testing | accuracy:  0.9231842105263158\n",
      "(2, True, 20, 0.1) finished testing | accuracy:  0.9556315789473684\n",
      "(2, True, 20, 1) finished testing | accuracy:  0.9166052631578947\n",
      "(2, False, 0, 0.0001) finished testing | accuracy:  0.9576315789473684\n",
      "(2, False, 0, 0.001) finished testing | accuracy:  0.9533947368421053\n",
      "(2, False, 0, 0.01) finished testing | accuracy:  0.9194210526315789\n",
      "(2, False, 0, 0.1) finished testing | accuracy:  0.9303421052631579\n",
      "(2, False, 0, 1) finished testing | accuracy:  0.9569736842105263\n",
      "(2, False, 10, 0.0001) finished testing | accuracy:  0.9544736842105264\n",
      "(2, False, 10, 0.001) finished testing | accuracy:  0.9478947368421052\n",
      "(2, False, 10, 0.01) finished testing | accuracy:  0.9305526315789474\n",
      "(2, False, 10, 0.1) finished testing | accuracy:  0.9536842105263158\n",
      "(2, False, 10, 1) finished testing | accuracy:  0.9545526315789473\n",
      "(2, False, 20, 0.0001) finished testing | accuracy:  0.9462368421052632\n",
      "(2, False, 20, 0.001) finished testing | accuracy:  0.9347894736842105\n",
      "(2, False, 20, 0.01) finished testing | accuracy:  0.9478947368421052\n",
      "(2, False, 20, 0.1) finished testing | accuracy:  0.9089736842105263\n",
      "(2, False, 20, 1) finished testing | accuracy:  0.9553157894736842\n",
      "(3, True, 0, 0.0001) finished testing | accuracy:  0.9510526315789474\n",
      "(3, True, 0, 0.001) finished testing | accuracy:  0.9428684210526316\n",
      "(3, True, 0, 0.01) finished testing | accuracy:  0.9380263157894737\n",
      "(3, True, 0, 0.1) finished testing | accuracy:  0.8647105263157895\n",
      "(3, True, 0, 1) finished testing | accuracy:  0.9101052631578948\n",
      "(3, True, 10, 0.0001) finished testing | accuracy:  0.9452894736842106\n",
      "(3, True, 10, 0.001) finished testing | accuracy:  0.9535263157894737\n",
      "(3, True, 10, 0.01) finished testing | accuracy:  0.9142894736842105\n",
      "(3, True, 10, 0.1) finished testing | accuracy:  0.9512631578947368\n",
      "(3, True, 10, 1) finished testing | accuracy:  0.8345263157894737\n",
      "(3, True, 20, 0.0001) finished testing | accuracy:  0.9533421052631579\n",
      "(3, True, 20, 0.001) finished testing | accuracy:  0.9441315789473684\n",
      "(3, True, 20, 0.01) finished testing | accuracy:  0.8892894736842105\n",
      "(3, True, 20, 0.1) finished testing | accuracy:  0.9523421052631579\n",
      "(3, True, 20, 1) finished testing | accuracy:  0.9545263157894737\n",
      "(3, False, 0, 0.0001) finished testing | accuracy:  0.9521842105263157\n",
      "(3, False, 0, 0.001) finished testing | accuracy:  0.954421052631579\n",
      "(3, False, 0, 0.01) finished testing | accuracy:  0.9577368421052631\n",
      "(3, False, 0, 0.1) finished testing | accuracy:  0.9256052631578947\n",
      "(3, False, 0, 1) finished testing | accuracy:  0.9231315789473684\n",
      "(3, False, 10, 0.0001) finished testing | accuracy:  0.9476578947368421\n",
      "(3, False, 10, 0.001) finished testing | accuracy:  0.9505789473684211\n",
      "(3, False, 10, 0.01) finished testing | accuracy:  0.945\n",
      "(3, False, 10, 0.1) finished testing | accuracy:  0.9302631578947369\n",
      "(3, False, 10, 1) finished testing | accuracy:  0.945921052631579\n",
      "(3, False, 20, 0.0001) finished testing | accuracy:  0.9499473684210527\n",
      "(3, False, 20, 0.001) finished testing | accuracy:  0.9446315789473684\n",
      "(3, False, 20, 0.01) finished testing | accuracy:  0.9497894736842105\n",
      "(3, False, 20, 0.1) finished testing | accuracy:  0.9482894736842106\n",
      "(3, False, 20, 1) finished testing | accuracy:  0.947078947368421\n",
      "(4, True, 0, 0.0001) finished testing | accuracy:  0.9460263157894737\n"
     ]
    },
    {
     "ename": "KeyboardInterrupt",
     "evalue": "",
     "output_type": "error",
     "traceback": [
      "\u001b[0;31m---------------------------------------------------------------------------\u001b[0m",
      "\u001b[0;31mKeyboardInterrupt\u001b[0m                         Traceback (most recent call last)",
      "\u001b[0;32m<ipython-input-4-91046b0810c8>\u001b[0m in \u001b[0;36m<module>\u001b[0;34m\u001b[0m\n\u001b[0;32m----> 1\u001b[0;31m \u001b[0mmodel\u001b[0m\u001b[0;34m.\u001b[0m\u001b[0moptimize_model\u001b[0m\u001b[0;34m(\u001b[0m\u001b[0;34m'test_data/merged_data.csv'\u001b[0m\u001b[0;34m,\u001b[0m \u001b[0mtesting_fraction\u001b[0m\u001b[0;34m=\u001b[0m\u001b[0;36m0.95\u001b[0m\u001b[0;34m)\u001b[0m\u001b[0;34m\u001b[0m\u001b[0;34m\u001b[0m\u001b[0m\n\u001b[0m",
      "\u001b[0;32m~/Desktop/cmsc122project/model.py\u001b[0m in \u001b[0;36moptimize_model\u001b[0;34m(csv_file, testing_fraction)\u001b[0m\n\u001b[1;32m     92\u001b[0m     \u001b[0;32mfor\u001b[0m \u001b[0mcombi\u001b[0m \u001b[0;32min\u001b[0m \u001b[0mall_combi\u001b[0m\u001b[0;34m:\u001b[0m\u001b[0;34m\u001b[0m\u001b[0;34m\u001b[0m\u001b[0m\n\u001b[1;32m     93\u001b[0m         \u001b[0mngram\u001b[0m\u001b[0;34m,\u001b[0m \u001b[0mlemmatize\u001b[0m\u001b[0;34m,\u001b[0m \u001b[0mstop_word\u001b[0m\u001b[0;34m,\u001b[0m \u001b[0malpha\u001b[0m \u001b[0;34m=\u001b[0m \u001b[0mcombi\u001b[0m\u001b[0;34m\u001b[0m\u001b[0;34m\u001b[0m\u001b[0m\n\u001b[0;32m---> 94\u001b[0;31m         df, idf, chosen_stops = get_final_df(csv_file, n=ngram,\n\u001b[0m\u001b[1;32m     95\u001b[0m                                              \u001b[0mlemmatized\u001b[0m\u001b[0;34m=\u001b[0m\u001b[0mlemmatize\u001b[0m\u001b[0;34m,\u001b[0m\u001b[0;34m\u001b[0m\u001b[0;34m\u001b[0m\u001b[0m\n\u001b[1;32m     96\u001b[0m                                              num_stop_words=stop_word)\n",
      "\u001b[0;32m~/Desktop/cmsc122project/analyze_words.py\u001b[0m in \u001b[0;36mget_final_df\u001b[0;34m(csv_file, n, lemmatized, num_stop_words)\u001b[0m\n\u001b[1;32m    235\u001b[0m     \u001b[0mngrams\u001b[0m \u001b[0;34m=\u001b[0m \u001b[0;34m[\u001b[0m\u001b[0mmake_ngrams\u001b[0m\u001b[0;34m(\u001b[0m\u001b[0mtokens\u001b[0m\u001b[0;34m,\u001b[0m \u001b[0mn\u001b[0m\u001b[0;34m)\u001b[0m \u001b[0;32mfor\u001b[0m \u001b[0mtokens\u001b[0m \u001b[0;32min\u001b[0m \u001b[0mall_tokens\u001b[0m\u001b[0;34m]\u001b[0m\u001b[0;34m\u001b[0m\u001b[0;34m\u001b[0m\u001b[0m\n\u001b[1;32m    236\u001b[0m \u001b[0;34m\u001b[0m\u001b[0m\n\u001b[0;32m--> 237\u001b[0;31m     \u001b[0mfinal_df\u001b[0m\u001b[0;34m,\u001b[0m \u001b[0midf\u001b[0m \u001b[0;34m=\u001b[0m \u001b[0mtfidf_vectorize\u001b[0m\u001b[0;34m(\u001b[0m\u001b[0mngrams\u001b[0m\u001b[0;34m)\u001b[0m\u001b[0;34m\u001b[0m\u001b[0;34m\u001b[0m\u001b[0m\n\u001b[0m\u001b[1;32m    238\u001b[0m     \u001b[0my_values\u001b[0m \u001b[0;34m=\u001b[0m \u001b[0mdf\u001b[0m\u001b[0;34m.\u001b[0m\u001b[0mRating\u001b[0m\u001b[0;34m.\u001b[0m\u001b[0mastype\u001b[0m\u001b[0;34m(\u001b[0m\u001b[0;34m'category'\u001b[0m\u001b[0;34m)\u001b[0m\u001b[0;34m\u001b[0m\u001b[0;34m\u001b[0m\u001b[0m\n\u001b[1;32m    239\u001b[0m \u001b[0;34m\u001b[0m\u001b[0m\n",
      "\u001b[0;32m~/Desktop/cmsc122project/analyze_words.py\u001b[0m in \u001b[0;36mtfidf_vectorize\u001b[0;34m(revs)\u001b[0m\n\u001b[1;32m    205\u001b[0m             \u001b[0mrev\u001b[0m\u001b[0;34m[\u001b[0m\u001b[0mtok\u001b[0m\u001b[0;34m]\u001b[0m \u001b[0;34m=\u001b[0m \u001b[0mtf\u001b[0m \u001b[0;34m*\u001b[0m \u001b[0midf\u001b[0m\u001b[0;34m[\u001b[0m\u001b[0mtok\u001b[0m\u001b[0;34m]\u001b[0m\u001b[0;34m\u001b[0m\u001b[0;34m\u001b[0m\u001b[0m\n\u001b[1;32m    206\u001b[0m \u001b[0;34m\u001b[0m\u001b[0m\n\u001b[0;32m--> 207\u001b[0;31m     \u001b[0;32mreturn\u001b[0m \u001b[0mpd\u001b[0m\u001b[0;34m.\u001b[0m\u001b[0mDataFrame\u001b[0m\u001b[0;34m(\u001b[0m\u001b[0mtok_to_freq_by_rev\u001b[0m\u001b[0;34m)\u001b[0m\u001b[0;34m.\u001b[0m\u001b[0mfillna\u001b[0m\u001b[0;34m(\u001b[0m\u001b[0;36m0\u001b[0m\u001b[0;34m)\u001b[0m\u001b[0;34m,\u001b[0m \u001b[0midf\u001b[0m\u001b[0;34m\u001b[0m\u001b[0;34m\u001b[0m\u001b[0m\n\u001b[0m\u001b[1;32m    208\u001b[0m \u001b[0;34m\u001b[0m\u001b[0m\n\u001b[1;32m    209\u001b[0m \u001b[0;34m\u001b[0m\u001b[0m\n",
      "\u001b[0;32m~/Library/Python/3.8/lib/python/site-packages/pandas/core/frame.py\u001b[0m in \u001b[0;36m__init__\u001b[0;34m(self, data, index, columns, dtype, copy)\u001b[0m\n\u001b[1;32m    568\u001b[0m                     \u001b[0;32mif\u001b[0m \u001b[0mis_named_tuple\u001b[0m\u001b[0;34m(\u001b[0m\u001b[0mdata\u001b[0m\u001b[0;34m[\u001b[0m\u001b[0;36m0\u001b[0m\u001b[0;34m]\u001b[0m\u001b[0;34m)\u001b[0m \u001b[0;32mand\u001b[0m \u001b[0mcolumns\u001b[0m \u001b[0;32mis\u001b[0m \u001b[0;32mNone\u001b[0m\u001b[0;34m:\u001b[0m\u001b[0;34m\u001b[0m\u001b[0;34m\u001b[0m\u001b[0m\n\u001b[1;32m    569\u001b[0m                         \u001b[0mcolumns\u001b[0m \u001b[0;34m=\u001b[0m \u001b[0mdata\u001b[0m\u001b[0;34m[\u001b[0m\u001b[0;36m0\u001b[0m\u001b[0;34m]\u001b[0m\u001b[0;34m.\u001b[0m\u001b[0m_fields\u001b[0m\u001b[0;34m\u001b[0m\u001b[0;34m\u001b[0m\u001b[0m\n\u001b[0;32m--> 570\u001b[0;31m                     \u001b[0marrays\u001b[0m\u001b[0;34m,\u001b[0m \u001b[0mcolumns\u001b[0m \u001b[0;34m=\u001b[0m \u001b[0mto_arrays\u001b[0m\u001b[0;34m(\u001b[0m\u001b[0mdata\u001b[0m\u001b[0;34m,\u001b[0m \u001b[0mcolumns\u001b[0m\u001b[0;34m,\u001b[0m \u001b[0mdtype\u001b[0m\u001b[0;34m=\u001b[0m\u001b[0mdtype\u001b[0m\u001b[0;34m)\u001b[0m\u001b[0;34m\u001b[0m\u001b[0;34m\u001b[0m\u001b[0m\n\u001b[0m\u001b[1;32m    571\u001b[0m                     \u001b[0mcolumns\u001b[0m \u001b[0;34m=\u001b[0m \u001b[0mensure_index\u001b[0m\u001b[0;34m(\u001b[0m\u001b[0mcolumns\u001b[0m\u001b[0;34m)\u001b[0m\u001b[0;34m\u001b[0m\u001b[0;34m\u001b[0m\u001b[0m\n\u001b[1;32m    572\u001b[0m \u001b[0;34m\u001b[0m\u001b[0m\n",
      "\u001b[0;32m~/Library/Python/3.8/lib/python/site-packages/pandas/core/internals/construction.py\u001b[0m in \u001b[0;36mto_arrays\u001b[0;34m(data, columns, coerce_float, dtype)\u001b[0m\n\u001b[1;32m    528\u001b[0m         \u001b[0;32mreturn\u001b[0m \u001b[0m_list_to_arrays\u001b[0m\u001b[0;34m(\u001b[0m\u001b[0mdata\u001b[0m\u001b[0;34m,\u001b[0m \u001b[0mcolumns\u001b[0m\u001b[0;34m,\u001b[0m \u001b[0mcoerce_float\u001b[0m\u001b[0;34m=\u001b[0m\u001b[0mcoerce_float\u001b[0m\u001b[0;34m,\u001b[0m \u001b[0mdtype\u001b[0m\u001b[0;34m=\u001b[0m\u001b[0mdtype\u001b[0m\u001b[0;34m)\u001b[0m\u001b[0;34m\u001b[0m\u001b[0;34m\u001b[0m\u001b[0m\n\u001b[1;32m    529\u001b[0m     \u001b[0;32melif\u001b[0m \u001b[0misinstance\u001b[0m\u001b[0;34m(\u001b[0m\u001b[0mdata\u001b[0m\u001b[0;34m[\u001b[0m\u001b[0;36m0\u001b[0m\u001b[0;34m]\u001b[0m\u001b[0;34m,\u001b[0m \u001b[0mabc\u001b[0m\u001b[0;34m.\u001b[0m\u001b[0mMapping\u001b[0m\u001b[0;34m)\u001b[0m\u001b[0;34m:\u001b[0m\u001b[0;34m\u001b[0m\u001b[0;34m\u001b[0m\u001b[0m\n\u001b[0;32m--> 530\u001b[0;31m         return _list_of_dict_to_arrays(\n\u001b[0m\u001b[1;32m    531\u001b[0m             \u001b[0mdata\u001b[0m\u001b[0;34m,\u001b[0m \u001b[0mcolumns\u001b[0m\u001b[0;34m,\u001b[0m \u001b[0mcoerce_float\u001b[0m\u001b[0;34m=\u001b[0m\u001b[0mcoerce_float\u001b[0m\u001b[0;34m,\u001b[0m \u001b[0mdtype\u001b[0m\u001b[0;34m=\u001b[0m\u001b[0mdtype\u001b[0m\u001b[0;34m\u001b[0m\u001b[0;34m\u001b[0m\u001b[0m\n\u001b[1;32m    532\u001b[0m         )\n",
      "\u001b[0;32m~/Library/Python/3.8/lib/python/site-packages/pandas/core/internals/construction.py\u001b[0m in \u001b[0;36m_list_of_dict_to_arrays\u001b[0;34m(data, columns, coerce_float, dtype)\u001b[0m\n\u001b[1;32m    649\u001b[0m     \u001b[0mcontent\u001b[0m \u001b[0;34m=\u001b[0m \u001b[0mlist\u001b[0m\u001b[0;34m(\u001b[0m\u001b[0mlib\u001b[0m\u001b[0;34m.\u001b[0m\u001b[0mdicts_to_array\u001b[0m\u001b[0;34m(\u001b[0m\u001b[0mdata\u001b[0m\u001b[0;34m,\u001b[0m \u001b[0mlist\u001b[0m\u001b[0;34m(\u001b[0m\u001b[0mcolumns\u001b[0m\u001b[0;34m)\u001b[0m\u001b[0;34m)\u001b[0m\u001b[0;34m.\u001b[0m\u001b[0mT\u001b[0m\u001b[0;34m)\u001b[0m\u001b[0;34m\u001b[0m\u001b[0;34m\u001b[0m\u001b[0m\n\u001b[1;32m    650\u001b[0m     \u001b[0mcolumns\u001b[0m \u001b[0;34m=\u001b[0m \u001b[0m_validate_or_indexify_columns\u001b[0m\u001b[0;34m(\u001b[0m\u001b[0mcontent\u001b[0m\u001b[0;34m,\u001b[0m \u001b[0mcolumns\u001b[0m\u001b[0;34m)\u001b[0m\u001b[0;34m\u001b[0m\u001b[0;34m\u001b[0m\u001b[0m\n\u001b[0;32m--> 651\u001b[0;31m     \u001b[0mcontent\u001b[0m \u001b[0;34m=\u001b[0m \u001b[0m_convert_object_array\u001b[0m\u001b[0;34m(\u001b[0m\u001b[0mcontent\u001b[0m\u001b[0;34m,\u001b[0m \u001b[0mdtype\u001b[0m\u001b[0;34m=\u001b[0m\u001b[0mdtype\u001b[0m\u001b[0;34m,\u001b[0m \u001b[0mcoerce_float\u001b[0m\u001b[0;34m=\u001b[0m\u001b[0mcoerce_float\u001b[0m\u001b[0;34m)\u001b[0m\u001b[0;34m\u001b[0m\u001b[0;34m\u001b[0m\u001b[0m\n\u001b[0m\u001b[1;32m    652\u001b[0m     \u001b[0;32mreturn\u001b[0m \u001b[0mcontent\u001b[0m\u001b[0;34m,\u001b[0m \u001b[0mcolumns\u001b[0m\u001b[0;34m\u001b[0m\u001b[0;34m\u001b[0m\u001b[0m\n\u001b[1;32m    653\u001b[0m \u001b[0;34m\u001b[0m\u001b[0m\n",
      "\u001b[0;32m~/Library/Python/3.8/lib/python/site-packages/pandas/core/internals/construction.py\u001b[0m in \u001b[0;36m_convert_object_array\u001b[0;34m(content, coerce_float, dtype)\u001b[0m\n\u001b[1;32m    734\u001b[0m         \u001b[0;32mreturn\u001b[0m \u001b[0marr\u001b[0m\u001b[0;34m\u001b[0m\u001b[0;34m\u001b[0m\u001b[0m\n\u001b[1;32m    735\u001b[0m \u001b[0;34m\u001b[0m\u001b[0m\n\u001b[0;32m--> 736\u001b[0;31m     \u001b[0marrays\u001b[0m \u001b[0;34m=\u001b[0m \u001b[0;34m[\u001b[0m\u001b[0mconvert\u001b[0m\u001b[0;34m(\u001b[0m\u001b[0marr\u001b[0m\u001b[0;34m)\u001b[0m \u001b[0;32mfor\u001b[0m \u001b[0marr\u001b[0m \u001b[0;32min\u001b[0m \u001b[0mcontent\u001b[0m\u001b[0;34m]\u001b[0m\u001b[0;34m\u001b[0m\u001b[0;34m\u001b[0m\u001b[0m\n\u001b[0m\u001b[1;32m    737\u001b[0m \u001b[0;34m\u001b[0m\u001b[0m\n\u001b[1;32m    738\u001b[0m     \u001b[0;32mreturn\u001b[0m \u001b[0marrays\u001b[0m\u001b[0;34m\u001b[0m\u001b[0;34m\u001b[0m\u001b[0m\n",
      "\u001b[0;32m~/Library/Python/3.8/lib/python/site-packages/pandas/core/internals/construction.py\u001b[0m in \u001b[0;36m<listcomp>\u001b[0;34m(.0)\u001b[0m\n\u001b[1;32m    734\u001b[0m         \u001b[0;32mreturn\u001b[0m \u001b[0marr\u001b[0m\u001b[0;34m\u001b[0m\u001b[0;34m\u001b[0m\u001b[0m\n\u001b[1;32m    735\u001b[0m \u001b[0;34m\u001b[0m\u001b[0m\n\u001b[0;32m--> 736\u001b[0;31m     \u001b[0marrays\u001b[0m \u001b[0;34m=\u001b[0m \u001b[0;34m[\u001b[0m\u001b[0mconvert\u001b[0m\u001b[0;34m(\u001b[0m\u001b[0marr\u001b[0m\u001b[0;34m)\u001b[0m \u001b[0;32mfor\u001b[0m \u001b[0marr\u001b[0m \u001b[0;32min\u001b[0m \u001b[0mcontent\u001b[0m\u001b[0;34m]\u001b[0m\u001b[0;34m\u001b[0m\u001b[0;34m\u001b[0m\u001b[0m\n\u001b[0m\u001b[1;32m    737\u001b[0m \u001b[0;34m\u001b[0m\u001b[0m\n\u001b[1;32m    738\u001b[0m     \u001b[0;32mreturn\u001b[0m \u001b[0marrays\u001b[0m\u001b[0;34m\u001b[0m\u001b[0;34m\u001b[0m\u001b[0m\n",
      "\u001b[0;32m~/Library/Python/3.8/lib/python/site-packages/pandas/core/internals/construction.py\u001b[0m in \u001b[0;36mconvert\u001b[0;34m(arr)\u001b[0m\n\u001b[1;32m    730\u001b[0m     \u001b[0;32mdef\u001b[0m \u001b[0mconvert\u001b[0m\u001b[0;34m(\u001b[0m\u001b[0marr\u001b[0m\u001b[0;34m)\u001b[0m\u001b[0;34m:\u001b[0m\u001b[0;34m\u001b[0m\u001b[0;34m\u001b[0m\u001b[0m\n\u001b[1;32m    731\u001b[0m         \u001b[0;32mif\u001b[0m \u001b[0mdtype\u001b[0m \u001b[0;34m!=\u001b[0m \u001b[0mnp\u001b[0m\u001b[0;34m.\u001b[0m\u001b[0mdtype\u001b[0m\u001b[0;34m(\u001b[0m\u001b[0;34m\"O\"\u001b[0m\u001b[0;34m)\u001b[0m\u001b[0;34m:\u001b[0m\u001b[0;34m\u001b[0m\u001b[0;34m\u001b[0m\u001b[0m\n\u001b[0;32m--> 732\u001b[0;31m             \u001b[0marr\u001b[0m \u001b[0;34m=\u001b[0m \u001b[0mlib\u001b[0m\u001b[0;34m.\u001b[0m\u001b[0mmaybe_convert_objects\u001b[0m\u001b[0;34m(\u001b[0m\u001b[0marr\u001b[0m\u001b[0;34m,\u001b[0m \u001b[0mtry_float\u001b[0m\u001b[0;34m=\u001b[0m\u001b[0mcoerce_float\u001b[0m\u001b[0;34m)\u001b[0m\u001b[0;34m\u001b[0m\u001b[0;34m\u001b[0m\u001b[0m\n\u001b[0m\u001b[1;32m    733\u001b[0m             \u001b[0marr\u001b[0m \u001b[0;34m=\u001b[0m \u001b[0mmaybe_cast_to_datetime\u001b[0m\u001b[0;34m(\u001b[0m\u001b[0marr\u001b[0m\u001b[0;34m,\u001b[0m \u001b[0mdtype\u001b[0m\u001b[0;34m)\u001b[0m\u001b[0;34m\u001b[0m\u001b[0;34m\u001b[0m\u001b[0m\n\u001b[1;32m    734\u001b[0m         \u001b[0;32mreturn\u001b[0m \u001b[0marr\u001b[0m\u001b[0;34m\u001b[0m\u001b[0;34m\u001b[0m\u001b[0m\n",
      "\u001b[0;31mKeyboardInterrupt\u001b[0m: "
     ]
    }
   ],
   "source": [
    "model.optimize_model('test_data/merged_data.csv', testing_fraction=0.95)"
   ]
  },
  {
   "cell_type": "code",
   "execution_count": null,
   "metadata": {},
   "outputs": [],
   "source": [
    "print(\"started at 8:30\")"
   ]
  },
  {
   "cell_type": "code",
   "execution_count": null,
   "metadata": {},
   "outputs": [],
   "source": []
  }
 ],
 "metadata": {
  "kernelspec": {
   "display_name": "Python 3",
   "language": "python",
   "name": "python3"
  },
  "language_info": {
   "codemirror_mode": {
    "name": "ipython",
    "version": 3
   },
   "file_extension": ".py",
   "mimetype": "text/x-python",
   "name": "python",
   "nbconvert_exporter": "python",
   "pygments_lexer": "ipython3",
   "version": "3.8.3"
  }
 },
 "nbformat": 4,
 "nbformat_minor": 5
}
