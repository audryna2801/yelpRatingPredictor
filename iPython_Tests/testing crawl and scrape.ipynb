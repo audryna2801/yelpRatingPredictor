{
 "cells": [
  {
   "cell_type": "code",
   "execution_count": 1,
   "metadata": {},
   "outputs": [],
   "source": [
    "%load_ext autoreload\n",
    "%autoreload 2\n",
    "import crawl_and_scrape\n"
   ]
  },
  {
   "cell_type": "code",
   "execution_count": 4,
   "metadata": {},
   "outputs": [
    {
     "name": "stdout",
     "output_type": "stream",
     "text": [
      "https://www.yelp.com/search?find_desc=&find_loc=Chicago%2C%20IL&start=0\n",
      "https://www.yelp.com/search?find_desc=&find_loc=Chicago%2C%20IL&start=10\n",
      "https://www.yelp.com/search?find_desc=&find_loc=Chicago%2C%20IL&start=20\n",
      "https://www.yelp.com/search?find_desc=&find_loc=Chicago%2C%20IL&start=30\n",
      "https://www.yelp.com/search?find_desc=&find_loc=Chicago%2C%20IL&start=40\n",
      "https://www.yelp.com/search?find_desc=&find_loc=Chicago%2C%20IL&start=50\n",
      "https://www.yelp.com/search?find_desc=&find_loc=Chicago%2C%20IL&start=60\n",
      "https://www.yelp.com/search?find_desc=&find_loc=Chicago%2C%20IL&start=70\n",
      "https://www.yelp.com/search?find_desc=&find_loc=Chicago%2C%20IL&start=80\n",
      "https://www.yelp.com/search?find_desc=&find_loc=Chicago%2C%20IL&start=90\n",
      "https://www.yelp.com/search?find_desc=&find_loc=Chicago%2C%20IL&start=100\n",
      "https://www.yelp.com/search?find_desc=&find_loc=Chicago%2C%20IL&start=110\n",
      "https://www.yelp.com/search?find_desc=&find_loc=Chicago%2C%20IL&start=120\n",
      "https://www.yelp.com/search?find_desc=&find_loc=Chicago%2C%20IL&start=130\n",
      "https://www.yelp.com/search?find_desc=&find_loc=Chicago%2C%20IL&start=140\n",
      "https://www.yelp.com/search?find_desc=&find_loc=Chicago%2C%20IL&start=150\n",
      "https://www.yelp.com/search?find_desc=&find_loc=Chicago%2C%20IL&start=160\n",
      "https://www.yelp.com/search?find_desc=&find_loc=Chicago%2C%20IL&start=170\n",
      "https://www.yelp.com/search?find_desc=&find_loc=Chicago%2C%20IL&start=180\n",
      "https://www.yelp.com/search?find_desc=&find_loc=Chicago%2C%20IL&start=190\n",
      "https://www.yelp.com/search?find_desc=&find_loc=Chicago%2C%20IL&start=200\n",
      "https://www.yelp.com/search?find_desc=&find_loc=Chicago%2C%20IL&start=210\n",
      "https://www.yelp.com/search?find_desc=&find_loc=Chicago%2C%20IL&start=220\n",
      "https://www.yelp.com/search?find_desc=&find_loc=Chicago%2C%20IL&start=230\n",
      "https://www.yelp.com/search?find_desc=&find_loc=Chicago%2C%20IL&start=240\n",
      "success at generating list of restos\n",
      "['https://www.yelp.com/biz/bavettes-bar-and-boeuf-chicago', 'https://www.yelp.com/biz/au-cheval-chicago', 'https://www.yelp.com/biz/art-institute-of-chicago-chicago-3', 'https://www.yelp.com/biz/little-goat-diner-chicago-5', 'https://www.yelp.com/biz/the-purple-pig-chicago', 'https://www.yelp.com/biz/girl-and-the-goat-chicago', 'https://www.yelp.com/biz/smoque-bbq-chicago', 'https://www.yelp.com/biz/cafe-ba-ba-reeba-chicago-3', 'https://www.yelp.com/biz/wildberry-pancakes-and-cafe-chicago-2', 'https://www.yelp.com/biz/lou-malnatis-pizzeria-chicago', 'https://www.yelp.com/biz/saic-columbus-cafeteria-chicago', 'https://www.yelp.com/biz/alinea-chicago', 'https://www.yelp.com/biz/kumas-corner-belmont-chicago', 'https://www.yelp.com/biz/sapori-trattoria-chicago', 'https://www.yelp.com/biz/joes-seafood-prime-steak-and-stone-crab-chicago', 'https://www.yelp.com/biz/quartino-ristorante-chicago', 'https://www.yelp.com/biz/crisp-chicago', 'https://www.yelp.com/biz/portillos-hot-dogs-chicago-4', 'https://www.yelp.com/biz/xoco-chicago', 'https://www.yelp.com/biz/mollys-cupcakes-chicago', 'https://www.yelp.com/biz/pequods-pizzeria-chicago', 'https://www.yelp.com/biz/the-gage-chicago', 'https://www.yelp.com/biz/three-dots-and-a-dash-chicago', 'https://www.yelp.com/biz/piece-brewery-and-pizzeria-chicago', 'https://www.yelp.com/biz/batter-and-berries-chicago', 'https://www.yelp.com/biz/rpm-italian-chicago', 'https://www.yelp.com/biz/del-seoul-chicago', 'https://www.yelp.com/biz/millennium-park-chicago', 'https://www.yelp.com/biz/avec-chicago-chicago', 'https://www.yelp.com/biz/the-publican-chicago', 'https://www.yelp.com/biz/the-violet-hour-chicago', 'https://www.yelp.com/biz/green-street-smoked-meats-chicago', 'https://www.yelp.com/biz/eataly-chicago-chicago-6', 'https://www.yelp.com/biz/ramen-wasabi-chicago', 'https://www.yelp.com/biz/kai-zan-chicago', 'https://www.yelp.com/biz/beatrix-chicago-10', 'https://www.yelp.com/biz/shaws-crab-house-chicago', 'https://www.yelp.com/biz/longman-and-eagle-chicago', 'https://www.yelp.com/biz/lula-cafe-chicago-3', 'https://www.yelp.com/biz/iraz%C3%BA-costa-rican-restaurant-and-catering-chicago-7', 'https://www.yelp.com/biz/cafecito-chicago', 'https://www.yelp.com/biz/chicago-pizza-and-oven-grinder-company-chicago', 'https://www.yelp.com/biz/sunda-chicago-chicago', 'https://www.yelp.com/biz/chicago-diner-chicago-3', 'https://www.yelp.com/biz/yuzu-sushi-and-robata-grill-chicago', 'https://www.yelp.com/biz/sweet-mandy-bs-chicago', 'https://www.yelp.com/biz/volare-ristorante-italiano-chicago', 'https://www.yelp.com/biz/do-rite-donuts-and-chicken-chicago-4', 'https://www.yelp.com/biz/boka-chicago', 'https://www.yelp.com/biz/garfield-park-conservatory-chicago', 'https://www.yelp.com/biz/lou-malnatis-pizzeria-chicago-9', 'https://www.yelp.com/biz/gibsons-bar-and-steakhouse-chicago', 'https://www.yelp.com/biz/zoolights-chicago', 'https://www.yelp.com/biz/penumbra-chicago', 'https://www.yelp.com/biz/millennium-park-chicago', 'https://www.yelp.com/biz/wormhole-coffee-chicago-3', 'https://www.yelp.com/biz/gilt-bar-chicago', 'https://www.yelp.com/biz/fogo-de-chao-brazilian-steak-house-chicago', 'https://www.yelp.com/biz/the-cloud-gate-chicago', 'https://www.yelp.com/biz/maple-and-ash-chicago', 'https://www.yelp.com/biz/little-bad-wolf-chicago', 'https://www.yelp.com/biz/lincoln-park-zoo-chicago-3', 'https://www.yelp.com/biz/siena-tavern-chicago', 'https://www.yelp.com/biz/mindys-hot-chocolate-chicago-2', 'https://www.yelp.com/biz/do-rite-donuts-and-coffee-chicago-2', 'https://www.yelp.com/biz/wildberry-pancakes-and-cafe-chicago-4', 'https://www.yelp.com/biz/3-arts-club-caf%C3%A9-chicago-9', 'https://www.yelp.com/biz/bang-bang-pie-and-biscuits-chicago', 'https://www.yelp.com/biz/m-henry-chicago', 'https://www.yelp.com/biz/jenis-splendid-ice-creams-chicago-3', 'https://www.yelp.com/biz/firecakes-donuts-chicago-4', 'https://www.yelp.com/biz/rpm-steak-chicago-2', 'https://www.yelp.com/biz/gyu-kaku-japanese-bbq-chicago', 'https://www.yelp.com/biz/yolk-south-loop-chicago', 'https://www.yelp.com/biz/frontera-grill-chicago', 'https://www.yelp.com/biz/small-cheval-chicago-2', 'https://www.yelp.com/biz/velvet-taco-gold-coast-chicago', 'https://www.yelp.com/biz/lawrence-fish-market-chicago-2', 'https://www.yelp.com/biz/bar-siena-chicago', 'https://www.yelp.com/biz/summer-house-santa-monica-chicago-4', 'https://www.yelp.com/biz/greek-islands-restaurant-chicago', 'https://www.yelp.com/biz/90-miles-cuban-caf%C3%A9-chicago-5', 'https://www.yelp.com/biz/hopleaf-chicago', 'https://www.yelp.com/biz/prime-and-provisions-chicago-4', 'https://www.yelp.com/biz/carnivale-chicago-2', 'https://www.yelp.com/biz/chicago-diner-logan-square-chicago', 'https://www.yelp.com/biz/tweet-chicago', 'https://www.yelp.com/biz/en-hakkore-chicago-10', 'https://www.yelp.com/biz/gt-fish-and-oyster-chicago', 'https://www.yelp.com/biz/yolk-streeterville-chicago-2', 'https://www.yelp.com/biz/ramen-san-chicago', 'https://www.yelp.com/biz/tango-sur-chicago', 'https://www.yelp.com/biz/tanta-chicago', 'https://www.yelp.com/biz/chicago-athletic-association-hotel-chicago', 'https://www.yelp.com/biz/the-bad-apple-chicago', 'https://www.yelp.com/biz/monteverde-chicago', 'https://www.yelp.com/biz/spacca-napoli-chicago', 'https://www.yelp.com/biz/cindys-chicago', 'https://www.yelp.com/biz/handlebar-chicago', 'https://www.yelp.com/biz/minghin-cuisine-chicago-3', 'https://www.yelp.com/biz/chicago-q-chicago', 'https://www.yelp.com/biz/the-bongo-room-chicago', 'https://www.yelp.com/biz/giordanos-chicago-30', 'https://www.yelp.com/biz/ema-chicago-6', 'https://www.yelp.com/biz/sultans-market-chicago', 'https://www.yelp.com/biz/sawada-coffee-chicago', 'https://www.yelp.com/biz/en-hakkore-2-0-chicago-15', 'https://www.yelp.com/biz/big-star-chicago', 'https://www.yelp.com/biz/gather-chicago', 'https://www.yelp.com/biz/coalfire-pizza-chicago', 'https://www.yelp.com/biz/roka-akor-chicago-chicago', 'https://www.yelp.com/biz/lou-malnatis-pizzeria-chicago-8', 'https://www.yelp.com/biz/nhu-lan-saigon-subs-chicago-3', 'https://www.yelp.com/biz/hoosier-mama-pie-company-chicago', 'https://www.yelp.com/biz/aba-chicago-2', 'https://www.yelp.com/biz/honey-butter-fried-chicken-chicago', 'https://www.yelp.com/biz/homeslice-chicago', 'https://www.yelp.com/biz/owen-and-engine-chicago', 'https://www.yelp.com/biz/the-signature-room-at-the-95th-chicago-4', 'https://www.yelp.com/biz/dmk-burger-bar-chicago', 'https://www.yelp.com/biz/jenis-splendid-ice-creams-chicago-2', 'https://www.yelp.com/biz/bryn-mawr-breakfast-club-chicago-2', 'https://www.yelp.com/biz/stans-donuts-and-coffee-chicago', 'https://www.yelp.com/biz/the-aviary-chicago-2', 'https://www.yelp.com/biz/the-dawson-chicago', 'https://www.yelp.com/biz/bistro-6050-chicago-2', 'https://www.yelp.com/biz/demera-ethiopian-restaurant-chicago-2', 'https://www.yelp.com/biz/butcher-and-the-burger-chicago', 'https://www.yelp.com/biz/le-colonial-chicago-chicago-2', 'https://www.yelp.com/biz/the-art-of-pizza-chicago', 'https://www.yelp.com/biz/chicago-architecture-center-chicago', 'https://www.yelp.com/biz/forastero-chicago-2', 'https://www.yelp.com/biz/cafecito-chicago-5', 'https://www.yelp.com/biz/hugos-frog-bar-and-fish-house-chicago']\n",
      "Failure at restaurant https://www.yelp.com/biz/bavettes-bar-and-boeuf-chicago\n",
      "Failure at restaurant https://www.yelp.com/biz/au-cheval-chicago\n",
      "Success at restaurant https://www.yelp.com/biz/art-institute-of-chicago-chicago-3\n",
      "Failure at page https://www.yelp.com/biz/art-institute-of-chicago-chicago-3?start=0\n",
      "Failure at page https://www.yelp.com/biz/art-institute-of-chicago-chicago-3?start=20\n",
      "Success at page https://www.yelp.com/biz/art-institute-of-chicago-chicago-3?start=40\n",
      "Success at page https://www.yelp.com/biz/art-institute-of-chicago-chicago-3?start=60\n",
      "Success at page https://www.yelp.com/biz/art-institute-of-chicago-chicago-3?start=80\n",
      "Failure at page https://www.yelp.com/biz/art-institute-of-chicago-chicago-3?start=100\n",
      "Success at page https://www.yelp.com/biz/art-institute-of-chicago-chicago-3?start=120\n",
      "Success at page https://www.yelp.com/biz/art-institute-of-chicago-chicago-3?start=140\n",
      "Failure at page https://www.yelp.com/biz/art-institute-of-chicago-chicago-3?start=160\n",
      "Success at page https://www.yelp.com/biz/art-institute-of-chicago-chicago-3?start=180\n",
      "Failure at page https://www.yelp.com/biz/art-institute-of-chicago-chicago-3?start=200\n",
      "Success at page https://www.yelp.com/biz/art-institute-of-chicago-chicago-3?start=220\n",
      "Success at page https://www.yelp.com/biz/art-institute-of-chicago-chicago-3?start=240\n",
      "Failure at page https://www.yelp.com/biz/art-institute-of-chicago-chicago-3?start=260\n",
      "Success at page https://www.yelp.com/biz/art-institute-of-chicago-chicago-3?start=280\n",
      "Success at page https://www.yelp.com/biz/art-institute-of-chicago-chicago-3?start=300\n",
      "Success at page https://www.yelp.com/biz/art-institute-of-chicago-chicago-3?start=320\n",
      "Success at page https://www.yelp.com/biz/art-institute-of-chicago-chicago-3?start=340\n"
     ]
    },
    {
     "ename": "KeyboardInterrupt",
     "evalue": "",
     "output_type": "error",
     "traceback": [
      "\u001b[0;31m---------------------------------------------------------------------------\u001b[0m",
      "\u001b[0;31mKeyboardInterrupt\u001b[0m                         Traceback (most recent call last)",
      "\u001b[0;32m<ipython-input-4-2613c1330046>\u001b[0m in \u001b[0;36m<module>\u001b[0;34m\u001b[0m\n\u001b[0;32m----> 1\u001b[0;31m crawl_and_scrape.crawl_and_scrape(counter=20,\n\u001b[0m\u001b[1;32m      2\u001b[0m                      city_url=(\"https://www.yelp.com/\"\n\u001b[1;32m      3\u001b[0m                                \u001b[0;34m\"search?find_desc=&\"\u001b[0m\u001b[0;34m\u001b[0m\u001b[0;34m\u001b[0m\u001b[0m\n\u001b[1;32m      4\u001b[0m                                \"find_loc=Chicago%2C%20IL\"),\n\u001b[1;32m      5\u001b[0m                      csv_repo=\"scraped_data_final_test/\")\n",
      "\u001b[0;32m~/Desktop/cmsc122project/crawl_and_scrape.py\u001b[0m in \u001b[0;36mcrawl_and_scrape\u001b[0;34m(counter, city_url, csv_repo)\u001b[0m\n\u001b[1;32m    281\u001b[0m       \u001b[0;34m-\u001b[0m \u001b[0mcity_url\u001b[0m \u001b[0;34m(\u001b[0m\u001b[0mstr\u001b[0m\u001b[0;34m)\u001b[0m\u001b[0;34m:\u001b[0m \u001b[0mYelp\u001b[0m \u001b[0mURL\u001b[0m \u001b[0mof\u001b[0m \u001b[0mthe\u001b[0m \u001b[0mcity\u001b[0m\u001b[0;34m\u001b[0m\u001b[0;34m\u001b[0m\u001b[0m\n\u001b[1;32m    282\u001b[0m       \u001b[0;34m-\u001b[0m \u001b[0mcsv_repo\u001b[0m \u001b[0;34m(\u001b[0m\u001b[0mstr\u001b[0m\u001b[0;34m)\u001b[0m\u001b[0;34m:\u001b[0m \u001b[0mname\u001b[0m \u001b[0mof\u001b[0m \u001b[0mrepository\u001b[0m \u001b[0;32min\u001b[0m \u001b[0mwhich\u001b[0m \u001b[0mto\u001b[0m \u001b[0mstore\u001b[0m\u001b[0;34m\u001b[0m\u001b[0;34m\u001b[0m\u001b[0m\n\u001b[0;32m--> 283\u001b[0;31m                         \u001b[0mscraped\u001b[0m \u001b[0mdata\u001b[0m\u001b[0;34m\u001b[0m\u001b[0;34m\u001b[0m\u001b[0m\n\u001b[0m\u001b[1;32m    284\u001b[0m \u001b[0;34m\u001b[0m\u001b[0m\n\u001b[1;32m    285\u001b[0m     \u001b[0mReturns\u001b[0m\u001b[0;34m:\u001b[0m \u001b[0;32mNone\u001b[0m\u001b[0;34m,\u001b[0m \u001b[0mwrites\u001b[0m \u001b[0ma\u001b[0m \u001b[0mCSV\u001b[0m \u001b[0mfile\u001b[0m\u001b[0;34m\u001b[0m\u001b[0;34m\u001b[0m\u001b[0m\n",
      "\u001b[0;32m~/Desktop/cmsc122project/crawl_and_scrape.py\u001b[0m in \u001b[0;36mcrawl_resto\u001b[0;34m(url, writer, counter)\u001b[0m\n\u001b[1;32m    196\u001b[0m \u001b[0;34m\u001b[0m\u001b[0m\n\u001b[1;32m    197\u001b[0m     \u001b[0;32mfor\u001b[0m \u001b[0mreview_page\u001b[0m \u001b[0;32min\u001b[0m \u001b[0mreview_pages\u001b[0m\u001b[0;34m:\u001b[0m\u001b[0;34m\u001b[0m\u001b[0;34m\u001b[0m\u001b[0m\n\u001b[0;32m--> 198\u001b[0;31m         \u001b[0mget_reviews_from_page\u001b[0m\u001b[0;34m(\u001b[0m\u001b[0mreview_page\u001b[0m\u001b[0;34m,\u001b[0m \u001b[0mwriter\u001b[0m\u001b[0;34m,\u001b[0m \u001b[0mcounter\u001b[0m\u001b[0;34m)\u001b[0m\u001b[0;34m\u001b[0m\u001b[0;34m\u001b[0m\u001b[0m\n\u001b[0m\u001b[1;32m    199\u001b[0m         \u001b[0;31m# Random sleep to avoid being banned by Yelp\u001b[0m\u001b[0;34m\u001b[0m\u001b[0;34m\u001b[0m\u001b[0;34m\u001b[0m\u001b[0m\n\u001b[1;32m    200\u001b[0m         \u001b[0mtime\u001b[0m\u001b[0;34m.\u001b[0m\u001b[0msleep\u001b[0m\u001b[0;34m(\u001b[0m\u001b[0mrandom\u001b[0m\u001b[0;34m.\u001b[0m\u001b[0mrandint\u001b[0m\u001b[0;34m(\u001b[0m\u001b[0;36m1\u001b[0m\u001b[0;34m,\u001b[0m \u001b[0;36m3\u001b[0m\u001b[0;34m)\u001b[0m\u001b[0;34m)\u001b[0m\u001b[0;34m\u001b[0m\u001b[0;34m\u001b[0m\u001b[0m\n",
      "\u001b[0;32m~/Desktop/cmsc122project/crawl_and_scrape.py\u001b[0m in \u001b[0;36mget_reviews_from_page\u001b[0;34m(url, writer, counter)\u001b[0m\n\u001b[1;32m    145\u001b[0m         \u001b[0;32mfor\u001b[0m \u001b[0m_\u001b[0m \u001b[0;32min\u001b[0m \u001b[0mrange\u001b[0m\u001b[0;34m(\u001b[0m\u001b[0mcounter\u001b[0m\u001b[0;34m)\u001b[0m\u001b[0;34m:\u001b[0m\u001b[0;34m\u001b[0m\u001b[0;34m\u001b[0m\u001b[0m\n\u001b[1;32m    146\u001b[0m             \u001b[0mtag\u001b[0m \u001b[0;34m=\u001b[0m \u001b[0msoup\u001b[0m\u001b[0;34m.\u001b[0m\u001b[0mfind\u001b[0m\u001b[0;34m(\u001b[0m\u001b[0;34m\"script\"\u001b[0m\u001b[0;34m,\u001b[0m \u001b[0mtype\u001b[0m\u001b[0;34m=\u001b[0m\u001b[0;34m\"application/ld+json\"\u001b[0m\u001b[0;34m)\u001b[0m\u001b[0;34m\u001b[0m\u001b[0;34m\u001b[0m\u001b[0m\n\u001b[0;32m--> 147\u001b[0;31m             \u001b[0mtime\u001b[0m\u001b[0;34m.\u001b[0m\u001b[0msleep\u001b[0m\u001b[0;34m(\u001b[0m\u001b[0mrandom\u001b[0m\u001b[0;34m.\u001b[0m\u001b[0mrandint\u001b[0m\u001b[0;34m(\u001b[0m\u001b[0;36m1\u001b[0m\u001b[0;34m,\u001b[0m \u001b[0;36m3\u001b[0m\u001b[0;34m)\u001b[0m\u001b[0;34m)\u001b[0m\u001b[0;34m\u001b[0m\u001b[0;34m\u001b[0m\u001b[0m\n\u001b[0m\u001b[1;32m    148\u001b[0m             \u001b[0;32mif\u001b[0m \u001b[0mtag\u001b[0m\u001b[0;34m:\u001b[0m\u001b[0;34m\u001b[0m\u001b[0;34m\u001b[0m\u001b[0m\n\u001b[1;32m    149\u001b[0m                 \u001b[0;32mbreak\u001b[0m\u001b[0;34m\u001b[0m\u001b[0;34m\u001b[0m\u001b[0m\n",
      "\u001b[0;31mKeyboardInterrupt\u001b[0m: "
     ]
    }
   ],
   "source": [
    "crawl_and_scrape.crawl_and_scrape(counter=20,\n",
    "                     city_url=(\"https://www.yelp.com/\"\n",
    "                               \"search?find_desc=&\"\n",
    "                               \"find_loc=Chicago%2C%20IL\"),\n",
    "                     csv_repo=\"scraped_data_final_test/\")"
   ]
  },
  {
   "cell_type": "code",
   "execution_count": null,
   "metadata": {},
   "outputs": [
    {
     "name": "stdout",
     "output_type": "stream",
     "text": [
      "https://www.yelp.com/search?find_desc=&find_loc=Chicago%2C%20IL&start=0\n",
      "https://www.yelp.com/search?find_desc=&find_loc=Chicago%2C%20IL&start=10\n",
      "https://www.yelp.com/search?find_desc=&find_loc=Chicago%2C%20IL&start=20\n",
      "https://www.yelp.com/search?find_desc=&find_loc=Chicago%2C%20IL&start=30\n",
      "https://www.yelp.com/search?find_desc=&find_loc=Chicago%2C%20IL&start=40\n",
      "https://www.yelp.com/search?find_desc=&find_loc=Chicago%2C%20IL&start=50\n",
      "https://www.yelp.com/search?find_desc=&find_loc=Chicago%2C%20IL&start=60\n",
      "https://www.yelp.com/search?find_desc=&find_loc=Chicago%2C%20IL&start=70\n",
      "https://www.yelp.com/search?find_desc=&find_loc=Chicago%2C%20IL&start=80\n",
      "https://www.yelp.com/search?find_desc=&find_loc=Chicago%2C%20IL&start=90\n",
      "https://www.yelp.com/search?find_desc=&find_loc=Chicago%2C%20IL&start=100\n",
      "https://www.yelp.com/search?find_desc=&find_loc=Chicago%2C%20IL&start=110\n",
      "https://www.yelp.com/search?find_desc=&find_loc=Chicago%2C%20IL&start=120\n",
      "https://www.yelp.com/search?find_desc=&find_loc=Chicago%2C%20IL&start=130\n",
      "https://www.yelp.com/search?find_desc=&find_loc=Chicago%2C%20IL&start=140\n",
      "https://www.yelp.com/search?find_desc=&find_loc=Chicago%2C%20IL&start=150\n",
      "https://www.yelp.com/search?find_desc=&find_loc=Chicago%2C%20IL&start=160\n",
      "https://www.yelp.com/search?find_desc=&find_loc=Chicago%2C%20IL&start=170\n",
      "https://www.yelp.com/search?find_desc=&find_loc=Chicago%2C%20IL&start=180\n",
      "https://www.yelp.com/search?find_desc=&find_loc=Chicago%2C%20IL&start=190\n",
      "https://www.yelp.com/search?find_desc=&find_loc=Chicago%2C%20IL&start=200\n",
      "https://www.yelp.com/search?find_desc=&find_loc=Chicago%2C%20IL&start=210\n",
      "https://www.yelp.com/search?find_desc=&find_loc=Chicago%2C%20IL&start=220\n",
      "https://www.yelp.com/search?find_desc=&find_loc=Chicago%2C%20IL&start=230\n",
      "https://www.yelp.com/search?find_desc=&find_loc=Chicago%2C%20IL&start=240\n",
      "success at generating list of restos\n",
      "['https://www.yelp.com/biz/bavettes-bar-and-boeuf-chicago', 'https://www.yelp.com/biz/au-cheval-chicago', 'https://www.yelp.com/biz/art-institute-of-chicago-chicago-3', 'https://www.yelp.com/biz/little-goat-diner-chicago-5', 'https://www.yelp.com/biz/the-purple-pig-chicago', 'https://www.yelp.com/biz/girl-and-the-goat-chicago', 'https://www.yelp.com/biz/smoque-bbq-chicago', 'https://www.yelp.com/biz/cafe-ba-ba-reeba-chicago-3', 'https://www.yelp.com/biz/wildberry-pancakes-and-cafe-chicago-2', 'https://www.yelp.com/biz/lou-malnatis-pizzeria-chicago', 'https://www.yelp.com/biz/saic-columbus-cafeteria-chicago', 'https://www.yelp.com/biz/alinea-chicago', 'https://www.yelp.com/biz/kumas-corner-belmont-chicago', 'https://www.yelp.com/biz/sapori-trattoria-chicago', 'https://www.yelp.com/biz/joes-seafood-prime-steak-and-stone-crab-chicago', 'https://www.yelp.com/biz/quartino-ristorante-chicago', 'https://www.yelp.com/biz/crisp-chicago', 'https://www.yelp.com/biz/portillos-hot-dogs-chicago-4', 'https://www.yelp.com/biz/xoco-chicago', 'https://www.yelp.com/biz/mollys-cupcakes-chicago', 'https://www.yelp.com/biz/pequods-pizzeria-chicago', 'https://www.yelp.com/biz/mindys-hot-chocolate-chicago-2', 'https://www.yelp.com/biz/do-rite-donuts-and-coffee-chicago-2', 'https://www.yelp.com/biz/wildberry-pancakes-and-cafe-chicago-4', 'https://www.yelp.com/biz/3-arts-club-caf%C3%A9-chicago-9', 'https://www.yelp.com/biz/bang-bang-pie-and-biscuits-chicago', 'https://www.yelp.com/biz/m-henry-chicago', 'https://www.yelp.com/biz/jenis-splendid-ice-creams-chicago-3', 'https://www.yelp.com/biz/firecakes-donuts-chicago-4', 'https://www.yelp.com/biz/rpm-steak-chicago-2', 'https://www.yelp.com/biz/gyu-kaku-japanese-bbq-chicago', 'https://www.yelp.com/biz/yolk-south-loop-chicago', 'https://www.yelp.com/biz/frontera-grill-chicago', 'https://www.yelp.com/biz/small-cheval-chicago-2', 'https://www.yelp.com/biz/velvet-taco-gold-coast-chicago', 'https://www.yelp.com/biz/lawrence-fish-market-chicago-2', 'https://www.yelp.com/biz/bar-siena-chicago', 'https://www.yelp.com/biz/summer-house-santa-monica-chicago-4', 'https://www.yelp.com/biz/greek-islands-restaurant-chicago', 'https://www.yelp.com/biz/90-miles-cuban-caf%C3%A9-chicago-5', 'https://www.yelp.com/biz/hopleaf-chicago']\n",
      "Failure at restaurant https://www.yelp.com/biz/bavettes-bar-and-boeuf-chicago\n",
      "Failure at restaurant https://www.yelp.com/biz/au-cheval-chicago\n",
      "Success at restaurant https://www.yelp.com/biz/art-institute-of-chicago-chicago-3\n",
      "Success at page https://www.yelp.com/biz/art-institute-of-chicago-chicago-3?start=0\n",
      "Failure at page https://www.yelp.com/biz/art-institute-of-chicago-chicago-3?start=20\n"
     ]
    }
   ],
   "source": [
    "crawl_and_scrape.crawl_and_scrape(counter=10,\n",
    "                     city_url=(\"https://www.yelp.com/\"\n",
    "                               \"search?find_desc=&\"\n",
    "                               \"find_loc=Chicago%2C%20IL\"),\n",
    "                     csv_repo=\"scraped_data_final_test/\")"
   ]
  },
  {
   "cell_type": "code",
   "execution_count": null,
   "metadata": {},
   "outputs": [],
   "source": []
  }
 ],
 "metadata": {
  "kernelspec": {
   "display_name": "Python 3",
   "language": "python",
   "name": "python3"
  },
  "language_info": {
   "codemirror_mode": {
    "name": "ipython",
    "version": 3
   },
   "file_extension": ".py",
   "mimetype": "text/x-python",
   "name": "python",
   "nbconvert_exporter": "python",
   "pygments_lexer": "ipython3",
   "version": "3.8.3"
  }
 },
 "nbformat": 4,
 "nbformat_minor": 5
}
