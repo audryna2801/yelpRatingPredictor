{
 "cells": [
  {
   "cell_type": "code",
   "execution_count": 3,
   "id": "yellow-payment",
   "metadata": {},
   "outputs": [
    {
     "name": "stdout",
     "output_type": "stream",
     "text": [
      "The autoreload extension is already loaded. To reload it, use:\n",
      "  %reload_ext autoreload\n",
      "==================================================\n",
      "   Welcome to the Suggested Star Rating System!\n",
      "\n",
      "            Copy and paste your review.\n",
      "\n",
      "       Type Control-D to exit the program.\n",
      "==================================================\n",
      "\n",
      "Enter review here: theis ies a list of mizeplled werds i lave the foed \n",
      "Your review is:  this is a list of mizeplled words i have the food \n",
      "Your suggested star rating is: 5\n",
      "Thank you for using our Suggested Star Rating System!\n"
     ]
    }
   ],
   "source": [
    "%load_ext autoreload\n",
    "%autoreload 2\n",
    "import main\n",
    "from textblob import TextBlob\n",
    "\n",
    "\n",
    "if __name__ == \"__main__\":\n",
    "    main.user_interface()"
   ]
  },
  {
   "cell_type": "code",
   "execution_count": null,
   "id": "alpha-christopher",
   "metadata": {},
   "outputs": [],
   "source": [
    "from textblob import TextBlob"
   ]
  },
  {
   "cell_type": "code",
   "execution_count": null,
   "id": "nonprofit-detroit",
   "metadata": {},
   "outputs": [],
   "source": []
  }
 ],
 "metadata": {
  "kernelspec": {
   "display_name": "Python 3",
   "language": "python",
   "name": "python3"
  },
  "language_info": {
   "codemirror_mode": {
    "name": "ipython",
    "version": 3
   },
   "file_extension": ".py",
   "mimetype": "text/x-python",
   "name": "python",
   "nbconvert_exporter": "python",
   "pygments_lexer": "ipython3",
   "version": "3.8.5"
  }
 },
 "nbformat": 4,
 "nbformat_minor": 5
}
